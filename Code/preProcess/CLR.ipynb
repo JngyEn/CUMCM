{
 "cells": [
  {
   "cell_type": "code",
   "execution_count": 1,
   "metadata": {},
   "outputs": [],
   "source": [
    "import numpy as np\n",
    "import pandas as pd\n",
    "\n",
    "def clr_transformation(data):\n",
    "    \"\"\"\n",
    "    对组成数据（Compositional Data）进行中心化对数比（CLR）变换。\n",
    "\n",
    "    参数:\n",
    "    data: 一个NumPy数组或Pandas DataFrame，其中每一行是一个样本，每一列是一个组成成分（比例）。\n",
    "\n",
    "    返回:\n",
    "    clr_data: CLR变换后的数据，以与输入相同的形式返回（NumPy数组或Pandas DataFrame）。\n",
    "    \"\"\"\n",
    "    # 如果输入是Pandas DataFrame，提取数值部分并保留索引和列名\n",
    "    if isinstance(data, pd.DataFrame):\n",
    "        columns = data.columns\n",
    "        index = data.index\n",
    "        data = data.values\n",
    "        is_dataframe = True\n",
    "    else:\n",
    "        is_dataframe = False\n",
    "    \n",
    "    # 确保数据中没有零值，因为对数变换不适用于零值\n",
    "    if np.any(data == 0):\n",
    "        raise ValueError(\"数据中存在零值，无法执行CLR变换。请先进行零值替换。\")\n",
    "    \n",
    "    # 计算几何平均值\n",
    "    geometric_mean = np.exp(np.mean(np.log(data), axis=1))\n",
    "    \n",
    "    # 计算CLR变换\n",
    "    clr_data = np.log(data / geometric_mean[:, np.newaxis])\n",
    "    \n",
    "    # 如果输入是DataFrame，转换为DataFrame形式并返回\n",
    "    if is_dataframe:\n",
    "        clr_data = pd.DataFrame(clr_data, index=index, columns=columns)\n",
    "    \n",
    "    return clr_data\n",
    "\n"
   ]
  },
  {
   "cell_type": "code",
   "execution_count": 2,
   "metadata": {},
   "outputs": [
    {
     "name": "stdout",
     "output_type": "stream",
     "text": [
      "原始数据：\n",
      "[[0.2  0.3  0.4  0.1 ]\n",
      " [0.1  0.2  0.6  0.1 ]\n",
      " [0.25 0.25 0.25 0.25]]\n",
      "\n",
      "CLR变换后的数据：\n",
      "[[-0.10136628  0.30409883  0.5917809  -0.79451346]\n",
      " [-0.62122666  0.07192052  1.17053281 -0.62122666]\n",
      " [ 0.          0.          0.          0.        ]]\n"
     ]
    }
   ],
   "source": [
    "# 示例数据\n",
    "data = np.array([\n",
    "    [0.2, 0.3, 0.4, 0.1],\n",
    "    [0.1, 0.2, 0.6, 0.1],\n",
    "    [0.25, 0.25, 0.25, 0.25]\n",
    "])\n",
    "\n",
    "# 执行CLR变换\n",
    "clr_data = clr_transformation(data)\n",
    "\n",
    "print(\"原始数据：\")\n",
    "print(data)\n",
    "print(\"\\nCLR变换后的数据：\")\n",
    "print(clr_data)"
   ]
  }
 ],
 "metadata": {
  "kernelspec": {
   "display_name": "Python 3",
   "language": "python",
   "name": "python3"
  },
  "language_info": {
   "codemirror_mode": {
    "name": "ipython",
    "version": 3
   },
   "file_extension": ".py",
   "mimetype": "text/x-python",
   "name": "python",
   "nbconvert_exporter": "python",
   "pygments_lexer": "ipython3",
   "version": "undefined.undefined.undefined"
  }
 },
 "nbformat": 4,
 "nbformat_minor": 2
}
