{
 "cells": [
  {
   "cell_type": "markdown",
   "metadata": {},
   "source": [
    "# 数据读取"
   ]
  },
  {
   "cell_type": "code",
   "execution_count": 19,
   "metadata": {},
   "outputs": [
    {
     "data": {
      "text/html": [
       "<div>\n",
       "<style scoped>\n",
       "    .dataframe tbody tr th:only-of-type {\n",
       "        vertical-align: middle;\n",
       "    }\n",
       "\n",
       "    .dataframe tbody tr th {\n",
       "        vertical-align: top;\n",
       "    }\n",
       "\n",
       "    .dataframe thead th {\n",
       "        text-align: right;\n",
       "    }\n",
       "</style>\n",
       "<table border=\"1\" class=\"dataframe\">\n",
       "  <thead>\n",
       "    <tr style=\"text-align: right;\">\n",
       "      <th></th>\n",
       "      <th>年份</th>\n",
       "      <th>单产</th>\n",
       "      <th>种子费</th>\n",
       "      <th>化肥费</th>\n",
       "      <th>农药费</th>\n",
       "      <th>机械费</th>\n",
       "      <th>灌溉费</th>\n",
       "    </tr>\n",
       "  </thead>\n",
       "  <tbody>\n",
       "    <tr>\n",
       "      <th>0</th>\n",
       "      <td>1990</td>\n",
       "      <td>1017.0</td>\n",
       "      <td>106.05</td>\n",
       "      <td>495.15</td>\n",
       "      <td>305.10</td>\n",
       "      <td>45.90</td>\n",
       "      <td>56.10</td>\n",
       "    </tr>\n",
       "    <tr>\n",
       "      <th>1</th>\n",
       "      <td>1991</td>\n",
       "      <td>1036.5</td>\n",
       "      <td>113.55</td>\n",
       "      <td>561.45</td>\n",
       "      <td>343.80</td>\n",
       "      <td>68.55</td>\n",
       "      <td>93.30</td>\n",
       "    </tr>\n",
       "    <tr>\n",
       "      <th>2</th>\n",
       "      <td>1992</td>\n",
       "      <td>792.0</td>\n",
       "      <td>104.55</td>\n",
       "      <td>584.85</td>\n",
       "      <td>414.00</td>\n",
       "      <td>73.20</td>\n",
       "      <td>104.55</td>\n",
       "    </tr>\n",
       "    <tr>\n",
       "      <th>3</th>\n",
       "      <td>1993</td>\n",
       "      <td>861.0</td>\n",
       "      <td>132.75</td>\n",
       "      <td>658.35</td>\n",
       "      <td>453.75</td>\n",
       "      <td>82.95</td>\n",
       "      <td>107.55</td>\n",
       "    </tr>\n",
       "    <tr>\n",
       "      <th>4</th>\n",
       "      <td>1994</td>\n",
       "      <td>901.5</td>\n",
       "      <td>174.30</td>\n",
       "      <td>904.05</td>\n",
       "      <td>625.05</td>\n",
       "      <td>114.00</td>\n",
       "      <td>152.10</td>\n",
       "    </tr>\n",
       "    <tr>\n",
       "      <th>5</th>\n",
       "      <td>1995</td>\n",
       "      <td>922.5</td>\n",
       "      <td>230.40</td>\n",
       "      <td>1248.75</td>\n",
       "      <td>834.45</td>\n",
       "      <td>143.85</td>\n",
       "      <td>176.40</td>\n",
       "    </tr>\n",
       "    <tr>\n",
       "      <th>6</th>\n",
       "      <td>1996</td>\n",
       "      <td>916.5</td>\n",
       "      <td>238.20</td>\n",
       "      <td>1361.55</td>\n",
       "      <td>720.75</td>\n",
       "      <td>165.15</td>\n",
       "      <td>194.25</td>\n",
       "    </tr>\n",
       "    <tr>\n",
       "      <th>7</th>\n",
       "      <td>1997</td>\n",
       "      <td>976.5</td>\n",
       "      <td>260.10</td>\n",
       "      <td>1337.40</td>\n",
       "      <td>727.65</td>\n",
       "      <td>201.90</td>\n",
       "      <td>291.75</td>\n",
       "    </tr>\n",
       "    <tr>\n",
       "      <th>8</th>\n",
       "      <td>1998</td>\n",
       "      <td>1024.5</td>\n",
       "      <td>270.60</td>\n",
       "      <td>1195.80</td>\n",
       "      <td>775.50</td>\n",
       "      <td>220.50</td>\n",
       "      <td>271.35</td>\n",
       "    </tr>\n",
       "    <tr>\n",
       "      <th>9</th>\n",
       "      <td>1999</td>\n",
       "      <td>1003.5</td>\n",
       "      <td>286.20</td>\n",
       "      <td>1171.80</td>\n",
       "      <td>610.95</td>\n",
       "      <td>195.00</td>\n",
       "      <td>284.55</td>\n",
       "    </tr>\n",
       "    <tr>\n",
       "      <th>10</th>\n",
       "      <td>2000</td>\n",
       "      <td>1069.5</td>\n",
       "      <td>282.90</td>\n",
       "      <td>1151.55</td>\n",
       "      <td>599.85</td>\n",
       "      <td>190.65</td>\n",
       "      <td>277.35</td>\n",
       "    </tr>\n",
       "    <tr>\n",
       "      <th>11</th>\n",
       "      <td>2001</td>\n",
       "      <td>1168.5</td>\n",
       "      <td>317.85</td>\n",
       "      <td>1105.80</td>\n",
       "      <td>553.80</td>\n",
       "      <td>211.05</td>\n",
       "      <td>290.10</td>\n",
       "    </tr>\n",
       "    <tr>\n",
       "      <th>12</th>\n",
       "      <td>2002</td>\n",
       "      <td>1228.5</td>\n",
       "      <td>319.65</td>\n",
       "      <td>1213.05</td>\n",
       "      <td>513.75</td>\n",
       "      <td>231.60</td>\n",
       "      <td>324.15</td>\n",
       "    </tr>\n",
       "    <tr>\n",
       "      <th>13</th>\n",
       "      <td>2003</td>\n",
       "      <td>1023.0</td>\n",
       "      <td>368.40</td>\n",
       "      <td>1274.10</td>\n",
       "      <td>567.45</td>\n",
       "      <td>239.85</td>\n",
       "      <td>331.80</td>\n",
       "    </tr>\n",
       "    <tr>\n",
       "      <th>14</th>\n",
       "      <td>2004</td>\n",
       "      <td>1144.5</td>\n",
       "      <td>466.20</td>\n",
       "      <td>1527.90</td>\n",
       "      <td>487.35</td>\n",
       "      <td>408.00</td>\n",
       "      <td>336.15</td>\n",
       "    </tr>\n",
       "    <tr>\n",
       "      <th>15</th>\n",
       "      <td>2005</td>\n",
       "      <td>1122.0</td>\n",
       "      <td>449.85</td>\n",
       "      <td>1703.25</td>\n",
       "      <td>555.15</td>\n",
       "      <td>402.30</td>\n",
       "      <td>358.80</td>\n",
       "    </tr>\n",
       "    <tr>\n",
       "      <th>16</th>\n",
       "      <td>2006</td>\n",
       "      <td>1276.5</td>\n",
       "      <td>537.00</td>\n",
       "      <td>1888.50</td>\n",
       "      <td>637.20</td>\n",
       "      <td>480.75</td>\n",
       "      <td>428.40</td>\n",
       "    </tr>\n",
       "    <tr>\n",
       "      <th>17</th>\n",
       "      <td>2007</td>\n",
       "      <td>1233.0</td>\n",
       "      <td>565.50</td>\n",
       "      <td>2009.85</td>\n",
       "      <td>715.65</td>\n",
       "      <td>562.05</td>\n",
       "      <td>456.90</td>\n",
       "    </tr>\n",
       "  </tbody>\n",
       "</table>\n",
       "</div>"
      ],
      "text/plain": [
       "      年份      单产     种子费      化肥费     农药费     机械费     灌溉费\n",
       "0   1990  1017.0  106.05   495.15  305.10   45.90   56.10\n",
       "1   1991  1036.5  113.55   561.45  343.80   68.55   93.30\n",
       "2   1992   792.0  104.55   584.85  414.00   73.20  104.55\n",
       "3   1993   861.0  132.75   658.35  453.75   82.95  107.55\n",
       "4   1994   901.5  174.30   904.05  625.05  114.00  152.10\n",
       "5   1995   922.5  230.40  1248.75  834.45  143.85  176.40\n",
       "6   1996   916.5  238.20  1361.55  720.75  165.15  194.25\n",
       "7   1997   976.5  260.10  1337.40  727.65  201.90  291.75\n",
       "8   1998  1024.5  270.60  1195.80  775.50  220.50  271.35\n",
       "9   1999  1003.5  286.20  1171.80  610.95  195.00  284.55\n",
       "10  2000  1069.5  282.90  1151.55  599.85  190.65  277.35\n",
       "11  2001  1168.5  317.85  1105.80  553.80  211.05  290.10\n",
       "12  2002  1228.5  319.65  1213.05  513.75  231.60  324.15\n",
       "13  2003  1023.0  368.40  1274.10  567.45  239.85  331.80\n",
       "14  2004  1144.5  466.20  1527.90  487.35  408.00  336.15\n",
       "15  2005  1122.0  449.85  1703.25  555.15  402.30  358.80\n",
       "16  2006  1276.5  537.00  1888.50  637.20  480.75  428.40\n",
       "17  2007  1233.0  565.50  2009.85  715.65  562.05  456.90"
      ]
     },
     "execution_count": 19,
     "metadata": {},
     "output_type": "execute_result"
    }
   ],
   "source": [
    "import numpy as np\n",
    "import matplotlib.pyplot as plt\n",
    "import pandas as pd\n",
    "from sklearn.linear_model import LinearRegression\n",
    "from sklearn.metrics import mean_squared_error\n",
    "import scipy.stats as stats\n",
    "\n",
    "# 生成样本数据\n",
    "df = pd.read_excel('..\\evaluation\\棉花产量论文作业的数据.xlsx')\n",
    "df.head(20)"
   ]
  },
  {
   "cell_type": "code",
   "execution_count": 20,
   "metadata": {},
   "outputs": [
    {
     "data": {
      "text/html": [
       "<div>\n",
       "<style scoped>\n",
       "    .dataframe tbody tr th:only-of-type {\n",
       "        vertical-align: middle;\n",
       "    }\n",
       "\n",
       "    .dataframe tbody tr th {\n",
       "        vertical-align: top;\n",
       "    }\n",
       "\n",
       "    .dataframe thead th {\n",
       "        text-align: right;\n",
       "    }\n",
       "</style>\n",
       "<table border=\"1\" class=\"dataframe\">\n",
       "  <thead>\n",
       "    <tr style=\"text-align: right;\">\n",
       "      <th></th>\n",
       "      <th>单产</th>\n",
       "      <th>灌溉费</th>\n",
       "    </tr>\n",
       "  </thead>\n",
       "  <tbody>\n",
       "    <tr>\n",
       "      <th>0</th>\n",
       "      <td>1017.0</td>\n",
       "      <td>56.10</td>\n",
       "    </tr>\n",
       "    <tr>\n",
       "      <th>1</th>\n",
       "      <td>1036.5</td>\n",
       "      <td>93.30</td>\n",
       "    </tr>\n",
       "    <tr>\n",
       "      <th>2</th>\n",
       "      <td>792.0</td>\n",
       "      <td>104.55</td>\n",
       "    </tr>\n",
       "    <tr>\n",
       "      <th>3</th>\n",
       "      <td>861.0</td>\n",
       "      <td>107.55</td>\n",
       "    </tr>\n",
       "    <tr>\n",
       "      <th>4</th>\n",
       "      <td>901.5</td>\n",
       "      <td>152.10</td>\n",
       "    </tr>\n",
       "    <tr>\n",
       "      <th>5</th>\n",
       "      <td>922.5</td>\n",
       "      <td>176.40</td>\n",
       "    </tr>\n",
       "    <tr>\n",
       "      <th>6</th>\n",
       "      <td>916.5</td>\n",
       "      <td>194.25</td>\n",
       "    </tr>\n",
       "    <tr>\n",
       "      <th>7</th>\n",
       "      <td>976.5</td>\n",
       "      <td>291.75</td>\n",
       "    </tr>\n",
       "    <tr>\n",
       "      <th>8</th>\n",
       "      <td>1024.5</td>\n",
       "      <td>271.35</td>\n",
       "    </tr>\n",
       "    <tr>\n",
       "      <th>9</th>\n",
       "      <td>1003.5</td>\n",
       "      <td>284.55</td>\n",
       "    </tr>\n",
       "    <tr>\n",
       "      <th>10</th>\n",
       "      <td>1069.5</td>\n",
       "      <td>277.35</td>\n",
       "    </tr>\n",
       "    <tr>\n",
       "      <th>11</th>\n",
       "      <td>1168.5</td>\n",
       "      <td>290.10</td>\n",
       "    </tr>\n",
       "    <tr>\n",
       "      <th>12</th>\n",
       "      <td>1228.5</td>\n",
       "      <td>324.15</td>\n",
       "    </tr>\n",
       "    <tr>\n",
       "      <th>13</th>\n",
       "      <td>1023.0</td>\n",
       "      <td>331.80</td>\n",
       "    </tr>\n",
       "    <tr>\n",
       "      <th>14</th>\n",
       "      <td>1144.5</td>\n",
       "      <td>336.15</td>\n",
       "    </tr>\n",
       "    <tr>\n",
       "      <th>15</th>\n",
       "      <td>1122.0</td>\n",
       "      <td>358.80</td>\n",
       "    </tr>\n",
       "    <tr>\n",
       "      <th>16</th>\n",
       "      <td>1276.5</td>\n",
       "      <td>428.40</td>\n",
       "    </tr>\n",
       "    <tr>\n",
       "      <th>17</th>\n",
       "      <td>1233.0</td>\n",
       "      <td>456.90</td>\n",
       "    </tr>\n",
       "  </tbody>\n",
       "</table>\n",
       "</div>"
      ],
      "text/plain": [
       "        单产     灌溉费\n",
       "0   1017.0   56.10\n",
       "1   1036.5   93.30\n",
       "2    792.0  104.55\n",
       "3    861.0  107.55\n",
       "4    901.5  152.10\n",
       "5    922.5  176.40\n",
       "6    916.5  194.25\n",
       "7    976.5  291.75\n",
       "8   1024.5  271.35\n",
       "9   1003.5  284.55\n",
       "10  1069.5  277.35\n",
       "11  1168.5  290.10\n",
       "12  1228.5  324.15\n",
       "13  1023.0  331.80\n",
       "14  1144.5  336.15\n",
       "15  1122.0  358.80\n",
       "16  1276.5  428.40\n",
       "17  1233.0  456.90"
      ]
     },
     "execution_count": 20,
     "metadata": {},
     "output_type": "execute_result"
    }
   ],
   "source": [
    "targetColumn = df[['单产','灌溉费']]\n",
    "targetColumn.head(20)"
   ]
  },
  {
   "cell_type": "code",
   "execution_count": 21,
   "metadata": {},
   "outputs": [
    {
     "name": "stderr",
     "output_type": "stream",
     "text": [
      "No artists with labels found to put in legend.  Note that artists whose label start with an underscore are ignored when legend() is called with no argument.\n"
     ]
    },
    {
     "data": {
      "image/png": "[encoded data removed]",
      "text/plain": [
       "<Figure size 640x480 with 1 Axes>"
      ]
     },
     "metadata": {},
     "output_type": "display_data"
    }
   ],
   "source": [
    "\n",
    "# 绘制散点图\n",
    "plt.rcParams['font.family'] = 'KaiTi'\n",
    "plt.scatter(df['单产'], df['灌溉费'], c='blue')\n",
    "\n",
    "# 添加标签和标题\n",
    "plt.xlabel('单产')\n",
    "plt.ylabel('灌溉费')\n",
    "plt.title('单产 to 灌溉费')\n",
    "\n",
    "# 添加图例\n",
    "plt.legend()\n",
    "\n",
    "# 显示图形\n",
    "plt.show()\n"
   ]
  },
  {
   "cell_type": "markdown",
   "metadata": {},
   "source": [
    "# Step1. 最小二乘法获得参数以及回归预测模型"
   ]
  },
  {
   "cell_type": "code",
   "execution_count": 22,
   "metadata": {},
   "outputs": [
    {
     "data": {
      "image/png": "[encoded data removed]",
      "text/plain": [
       "<Figure size 640x480 with 1 Axes>"
      ]
     },
     "metadata": {},
     "output_type": "display_data"
    },
    {
     "name": "stdout",
     "output_type": "stream",
     "text": [
      "截距: [-448.09243626]\n",
      "系数: [[0.67324966]]\n",
      "线性回归方程为：y =  [-448.09243626] + x* [[0.67324966]]\n"
     ]
    }
   ],
   "source": [
    "X = df[['单产']]\n",
    "Y = df[['灌溉费']]\n",
    "\n",
    "# 内置了最小二乘法以及协方差等\n",
    "model = LinearRegression()\n",
    "model.fit(X, Y)\n",
    "\n",
    "# 模型可视化\n",
    "plt.scatter(X,Y)\n",
    "plt.plot(X,model.predict(X),color='red')\n",
    "plt.xlabel('单产')\n",
    "plt.ylabel('灌溉费')\n",
    "plt.show()\n",
    "\n",
    "#查看系数,截距：线性回归方程构造\n",
    "# 获取截距\n",
    "intercept = model.intercept_\n",
    "# 获取斜率系数，即自变量的权重\n",
    "coefficients = model.coef_\n",
    "print('截距:', intercept)\n",
    "print('系数:', coefficients)\n",
    "print('线性回归方程为：y = ',intercept,'+ x*',coefficients)\n"
   ]
  },
  {
   "cell_type": "markdown",
   "metadata": {},
   "source": [
    "## 一元多次线性回归，转化为曲线\n",
    "\n",
    "- 有3个数：第1个数0对应X_中常数项的系数；第2个数对应X_中一次项（x）的系数，即系数b；第3个数对应X_中二次项（x^2）的系数，即系数a。\n",
    "- 截距，常数项c"
   ]
  },
  {
   "cell_type": "code",
   "execution_count": 27,
   "metadata": {},
   "outputs": [
    {
     "data": {
      "image/png": "[encoded data removed]",
      "text/plain": [
       "<Figure size 640x480 with 1 Axes>"
      ]
     },
     "metadata": {},
     "output_type": "display_data"
    },
    {
     "name": "stdout",
     "output_type": "stream",
     "text": [
      "截距: -15.330714369855855\n",
      "系数: [ 0.         -0.16783883  0.00040218]\n",
      "线性回归方程为：y =  -15.330714369855855  + x* -0.16783882860146457 + X^2* 0.0004021812823476745\n"
     ]
    }
   ],
   "source": [
    "# 用于增加一个多次项内容的模块PolynomialFeatures\n",
    "from sklearn.preprocessing import PolynomialFeatures\n",
    " \n",
    "# 用于增加一个多次项内容的模块PolynomialFeatures\n",
    "poly_reg = PolynomialFeatures(degree=2)\n",
    "\n",
    "# 设置最高次项为二次项，为生成二次项数据（x^2）做准备\n",
    "X_ = poly_reg.fit_transform(X)\n",
    "\n",
    "model2 = LinearRegression()\n",
    "model2.fit(X_, Y)\n",
    "\n",
    "# 创建一个新的图表\n",
    "plt.figure()\n",
    "plt.scatter(X, Y)\n",
    "plt.plot(X, model2.predict(X_), color='r')\n",
    "plt.xlabel('单产')\n",
    "plt.ylabel('灌溉费')\n",
    "plt.title('Polynomial Regression Fit')\n",
    "plt.show()\n",
    "\n",
    "# 获取截距\n",
    "intercept = model2.intercept_[0]\n",
    "# 获取斜率系数，即自变量的权重\n",
    "coefficients = model2.coef_[0]\n",
    "print('截距:', intercept)\n",
    "print('系数:', coefficients)\n",
    "print('线性回归方程为：y = ',intercept,' + x*',coefficients[1],'+ X^2*',coefficients[2])"
   ]
  },
  {
   "cell_type": "markdown",
   "metadata": {},
   "source": [
    "# Step2. 计算误差"
   ]
  },
  {
   "cell_type": "code",
   "execution_count": 36,
   "metadata": {},
   "outputs": [
    {
     "name": "stdout",
     "output_type": "stream",
     "text": [
      "均方误差为： 5114.98518390249\n",
      "残差标准误为： 71.51912460246203\n",
      "R^2 =  0.6056473214252043\n"
     ]
    }
   ],
   "source": [
    "from sklearn.metrics import r2_score\n",
    "\n",
    "# 计算均方误差\n",
    "mse = mean_squared_error(Y, Y_pred)\n",
    "#残差标准误\n",
    "se = np.sqrt(mse)\n",
    "print('均方误差为：', mse)\n",
    "print('残差标准误为：', se)\n",
    "\n",
    "# 计算R^2\n",
    "r2 = r2_score(Y,model.predict(X))\n",
    "print(\"R^2 = \",r2)\n",
    "\n"
   ]
  },
  {
   "cell_type": "markdown",
   "metadata": {},
   "source": [
    "# Step3. 计算置信区间和预测区间"
   ]
  },
  {
   "cell_type": "code",
   "execution_count": 38,
   "metadata": {},
   "outputs": [
    {
     "data": {
      "text/plain": [
       "<matplotlib.collections.PolyCollection at 0x2b70cf71c90>"
      ]
     },
     "execution_count": 38,
     "metadata": {},
     "output_type": "execute_result"
    },
    {
     "data": {
      "image/png": "[encoded data removed]",
      "text/plain": [
       "<Figure size 640x480 with 1 Axes>"
      ]
     },
     "metadata": {},
     "output_type": "display_data"
    }
   ],
   "source": [
    "# 计算置信区间\n",
    "n = len(X)\n",
    "X_mean = np.mean(X)\n",
    "t_value = stats.t.ppf(0.975, df=n-2)  # 95% 置信区间，双侧 t 分布的临界值\n",
    "\n",
    "# 置信区间的上下界\n",
    "plt.fill_between(X.values.flatten(), ci_lower.values.flatten(), ci_upper.values.flatten(), color='blue', alpha=0.2, label='置信区间')"
   ]
  },
  {
   "cell_type": "markdown",
   "metadata": {},
   "source": [
    "# Step4. 显著性检验"
   ]
  },
  {
   "cell_type": "markdown",
   "metadata": {},
   "source": [
    "根据下列代码，为我添加计算置信区间，预测区间以及显著性检验中的线性关系检验和回归系数的显著性检验的代码：X = df[['单产']]\n",
    "Y = df[['灌溉费']]\n",
    "\n",
    "内置了最小二乘法以及协方差等\n",
    "model = LinearRegression()\n",
    "model.fit(X, Y)\n",
    "\n",
    "模型可视化\n",
    "plt.scatter(X,Y)\n",
    "plt.plot(X,model.predict(X),color='red')\n",
    "plt.xlabel('单产')\n",
    "plt.ylabel('灌溉费')\n",
    "plt.show()\n",
    "\n",
    "查看系数,截距：线性回归方程构造\n",
    "获取截距\n",
    "intercept = model.intercept_\n",
    "获取斜率系数，即自变量的权重\n",
    "coefficients = model.coef_\n",
    "print('截距:', intercept)\n",
    "print('系数:', coefficients)\n",
    "print('线性回归方程为：y = ',intercept,'+ x*',coefficients)"
   ]
  }
 ],
 "metadata": {
  "kernelspec": {
   "display_name": "Python 3",
   "language": "python",
   "name": "python3"
  },
  "language_info": {
   "codemirror_mode": {
    "name": "ipython",
    "version": 3
   },
   "file_extension": ".py",
   "mimetype": "text/x-python",
   "name": "python",
   "nbconvert_exporter": "python",
   "pygments_lexer": "ipython3",
   "version": "3.11.6"
  }
 },
 "nbformat": 4,
 "nbformat_minor": 2
}
