{
 "cells": [
  {
   "cell_type": "markdown",
   "metadata": {},
   "source": [
    "# 正向化函数组"
   ]
  },
  {
   "cell_type": "code",
   "execution_count": 1,
   "metadata": {},
   "outputs": [],
   "source": [
    "\n",
    "# 极小型指标转化为极大型指标的函数\n",
    "def minTomax(maxx, x):\n",
    "    x = list(x)  # 将输入的指标数据转换为列表\n",
    "    ans = [[(maxx-e)] for e in x]  # 计算最大值与每个指标值的差，并将其放入新列表中\n",
    "    return np.array(ans)  # 将列表转换为numpy数组并返回\n",
    "\n",
    "# 中间型指标转化为极大型指标的函数\n",
    "def midTomax(bestx, x):\n",
    "    x = list(x)  # 将输入的指标数据转换为列表\n",
    "    h = [abs(e-bestx) for e in x]  # 计算每个指标值与最优值之间的绝对差\n",
    "    M = max(h)  # 找到最大的差值\n",
    "    if M == 0:\n",
    "        M = 1  # 防止最大差值为0的情况\n",
    "    ans = [[(1-e/M)] for e in h]  # 计算每个差值占最大差值的比例，并从1中减去，得到新指标值\n",
    "    return np.array(ans)  # 返回处理后的numpy数组\n",
    "\n",
    "# 区间型指标转化为极大型指标的函数\n",
    "def regTomax(lowx, highx, x):\n",
    "    x = list(x)  # 将输入的指标数据转换为列表\n",
    "    M = max(lowx-min(x), max(x)-highx)  # 计算指标值超出区间的最大距离\n",
    "    if M == 0:\n",
    "        M = 1  # 防止最大距离为0的情况\n",
    "    ans = []\n",
    "    for i in range(len(x)):\n",
    "        if x[i]<lowx:\n",
    "            ans.append([(1-(lowx-x[i])/M)])  # 如果指标值小于下限，则计算其与下限的距离比例\n",
    "        elif x[i]>highx:\n",
    "            ans.append([(1-(x[i]-highx)/M)])  # 如果指标值大于上限，则计算其与上限的距离比例\n",
    "        else:\n",
    "            ans.append([1])  # 如果指标值在区间内，则直接取为1\n",
    "    return np.array(ans)  # 返回处理后的numpy数组\n"
   ]
  },
  {
   "cell_type": "markdown",
   "metadata": {},
   "source": [
    "# 初始化数据"
   ]
  },
  {
   "cell_type": "code",
   "execution_count": 2,
   "metadata": {},
   "outputs": [],
   "source": [
    "import numpy as np\n",
    "init_matrix = [[9,10,175,120], [8,7,164,80],[6,3,157,90]]\n",
    "init_matrix = np.array(init_matrix)\n",
    "objectNum = len(init_matrix)\n",
    "indicatorNum = len(init_matrix[0])\n",
    "kind = [1,2,3,4]\n",
    "\n",
    "# 指标类型，按顺序输入，1:极大型，2：极小型，3：中间型，4：区间型\n",
    "kind = [1,2,3,4]\n",
    "# 中间值的最优值\n",
    "bestA = 165\n",
    "# 区间型的最大值和最小值\n",
    "lowA = 90\n",
    "highA = 100"
   ]
  },
  {
   "cell_type": "markdown",
   "metadata": {},
   "source": [
    "# Step1. 构建子母序列"
   ]
  },
  {
   "cell_type": "markdown",
   "metadata": {},
   "source": [
    "## 数据正向化"
   ]
  },
  {
   "cell_type": "code",
   "execution_count": 3,
   "metadata": {},
   "outputs": [
    {
     "name": "stdout",
     "output_type": "stream",
     "text": [
      "统一指标后矩阵为：\n",
      "[[9.  0.  0.  0. ]\n",
      " [8.  3.  0.9 0.5]\n",
      " [6.  7.  0.2 1. ]]\n"
     ]
    }
   ],
   "source": [
    "X = np.zeros(shape=(objectNum, 0))  # 初始化为 0 列，因为后续会逐列拼接\n",
    "\n",
    "for i in range(indicatorNum):\n",
    "    if kind[i] == 1:  # 如果当前指标为极大型，则直接使用原值\n",
    "        v = np.array(init_matrix[:, i])\n",
    "    elif kind[i] == 2:  # 如果当前指标为极小型，调用 minTomax 函数转换\n",
    "        maxA = max(init_matrix[:, i])\n",
    "        v = minTomax(maxA, init_matrix[:, i])\n",
    "    elif kind[i] == 3:  # 如果当前指标为中间型，调用 midTomax 函数转换\n",
    "        v = midTomax(bestA, init_matrix[:, i])\n",
    "    elif kind[i] == 4:  # 如果当前指标为区间型，调用 regTomax 函数转换\n",
    "        v = regTomax(lowA, highA, init_matrix[:, i])\n",
    "    \n",
    "    if i==0:\n",
    "        X = v.reshape(-1, 1)\n",
    "    else:\n",
    "        X = np.hstack([X, v])  # 否则，将新指标列拼接到 X 数组上\n",
    "\n",
    "print(\"统一指标后矩阵为：\\n{}\".format(X))  # 打印处理后的矩阵 X"
   ]
  },
  {
   "cell_type": "markdown",
   "metadata": {},
   "source": [
    "## 数据预处理"
   ]
  },
  {
   "cell_type": "code",
   "execution_count": 4,
   "metadata": {},
   "outputs": [
    {
     "name": "stdout",
     "output_type": "stream",
     "text": [
      "预处理后的矩阵为：\n",
      "[[1.17391304 0.         0.         0.        ]\n",
      " [1.04347826 0.9        2.45454545 1.        ]\n",
      " [0.7826087  2.1        0.54545455 2.        ]]\n"
     ]
    }
   ],
   "source": [
    "Mean = np.mean(X, axis=0)\n",
    "ripeMatrix = X / Mean\n",
    "print('预处理后的矩阵为：')\n",
    "print(ripeMatrix)"
   ]
  },
  {
   "cell_type": "markdown",
   "metadata": {},
   "source": [
    "## 构建子母序列"
   ]
  },
  {
   "cell_type": "code",
   "execution_count": 5,
   "metadata": {},
   "outputs": [],
   "source": [
    "Y = np.max(ripeMatrix, axis=1)  # 母序列为虚拟的，用每一行的最大值构成的列向量表示母序列"
   ]
  },
  {
   "cell_type": "markdown",
   "metadata": {},
   "source": [
    "# Step2. 计算灰色关联系数"
   ]
  },
  {
   "cell_type": "code",
   "execution_count": 12,
   "metadata": {},
   "outputs": [
    {
     "name": "stdout",
     "output_type": "stream",
     "text": [
      "关联系数：\n",
      "a =  0.0 b =  1.5545454545454547\n",
      "关联系数矩阵\n",
      "[[1.         0.39835916 0.39835916 0.39835916]\n",
      " [0.3551883  0.33333333 1.         0.34826884]\n",
      " [0.37107274 1.         0.33333333 0.88601036]]\n"
     ]
    }
   ],
   "source": [
    "absX0_Xi = np.abs(ripeMatrix - np.tile(Y.reshape(-1, 1), (1, ripeMatrix.shape[1])))\n",
    "a = np.min(absX0_Xi)\n",
    "b = np.max(absX0_Xi)\n",
    "# 分辨系数取0.5\n",
    "rho = 0.5  \n",
    "# 计算子序列中各个指标与母序列的关联系数\n",
    "gamma = (a + rho * b) / (absX0_Xi + rho * b)  \n",
    "print(\"a = \",a,\"b = \", b)\n",
    "print(\"关联系数矩阵\")\n",
    "print(gamma)"
   ]
  },
  {
   "cell_type": "markdown",
   "metadata": {},
   "source": [
    "# Step3. 计算关联度，权重，得分"
   ]
  },
  {
   "cell_type": "markdown",
   "metadata": {},
   "source": [
    "## 通过关联度计算权重"
   ]
  },
  {
   "cell_type": "code",
   "execution_count": 13,
   "metadata": {},
   "outputs": [
    {
     "name": "stdout",
     "output_type": "stream",
     "text": [
      "correlationCoefficient =  [0.57542035 0.57723083 0.57723083 0.54421279]\n",
      "[0.2530327  0.25382883 0.25382883 0.23930963]\n"
     ]
    }
   ],
   "source": [
    "correlationCoefficient = np.mean(gamma, axis=0)\n",
    "weight = correlationCoefficient / np.sum(np.mean(gamma, axis=0))  # 利用子序列中各个指标的灰色关联度计算权重\n",
    "print(\"correlationCoefficient = \", correlationCoefficient)\n",
    "print(weight)"
   ]
  },
  {
   "cell_type": "markdown",
   "metadata": {},
   "source": [
    "## 计算综合得分"
   ]
  },
  {
   "cell_type": "code",
   "execution_count": 14,
   "metadata": {},
   "outputs": [
    {
     "name": "stdout",
     "output_type": "stream",
     "text": [
      "归一化后的得分及其索引（降序）：\n",
      "[0.39850902 0.34835187 0.25313911]\n",
      "[2 1 0]\n"
     ]
    }
   ],
   "source": [
    "score = np.sum(X * np.tile(weight, (X.shape[0], 1)), axis=1)   # 未归一化的得分\n",
    "stand_S = score / np.sum(score)  # 归一化后的得分\n",
    "sorted_S = np.sort(stand_S)[::-1]  # 进行降序排序\n",
    "index = np.argsort(stand_S)[::-1]  # 排序后的索引\n",
    "\n",
    "print('归一化后的得分及其索引（降序）：')\n",
    "print(sorted_S)\n",
    "print(index)"
   ]
  }
 ],
 "metadata": {
  "kernelspec": {
   "display_name": "Python 3",
   "language": "python",
   "name": "python3"
  },
  "language_info": {
   "codemirror_mode": {
    "name": "ipython",
    "version": 3
   },
   "file_extension": ".py",
   "mimetype": "text/x-python",
   "name": "python",
   "nbconvert_exporter": "python",
   "pygments_lexer": "ipython3",
   "version": "3.11.6"
  }
 },
 "nbformat": 4,
 "nbformat_minor": 2
}
