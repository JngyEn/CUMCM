{
 "cells": [
  {
   "cell_type": "markdown",
   "metadata": {},
   "source": [
    "# Step1. 数据预处理"
   ]
  },
  {
   "cell_type": "markdown",
   "metadata": {},
   "source": [
    "## 数据读取"
   ]
  },
  {
   "cell_type": "code",
   "execution_count": 1,
   "metadata": {},
   "outputs": [
    {
     "name": "stdout",
     "output_type": "stream",
     "text": [
      "       种子费      化肥费     农药费     机械费     灌溉费\n",
      "0   106.05   495.15  305.10   45.90   56.10\n",
      "1   113.55   561.45  343.80   68.55   93.30\n",
      "2   104.55   584.85  414.00   73.20  104.55\n",
      "3   132.75   658.35  453.75   82.95  107.55\n",
      "4   174.30   904.05  625.05  114.00  152.10\n",
      "5   230.40  1248.75  834.45  143.85  176.40\n",
      "6   238.20  1361.55  720.75  165.15  194.25\n",
      "7   260.10  1337.40  727.65  201.90  291.75\n",
      "8   270.60  1195.80  775.50  220.50  271.35\n",
      "9   286.20  1171.80  610.95  195.00  284.55\n",
      "10  282.90  1151.55  599.85  190.65  277.35\n",
      "11  317.85  1105.80  553.80  211.05  290.10\n",
      "12  319.65  1213.05  513.75  231.60  324.15\n",
      "13  368.40  1274.10  567.45  239.85  331.80\n",
      "14  466.20  1527.90  487.35  408.00  336.15\n",
      "15  449.85  1703.25  555.15  402.30  358.80\n",
      "16  537.00  1888.50  637.20  480.75  428.40\n",
      "17  565.50  2009.85  715.65  562.05  456.90\n"
     ]
    }
   ],
   "source": [
    "import pandas as pd\n",
    "import numpy as np\n",
    "# 在Python中导入scipy库中的linalg模块\n",
    "# scipy 是Python中的一个科学计算库。\n",
    "# linalg 是线性代数（linear algebra）的缩写，它是数学的一个分支，涉及线性方程、线性函数以及它们通过矩阵和向量空间的表示。\n",
    "from scipy import linalg\n",
    "\n",
    "# 读取Excel文件的B:G列，除去第一行（标题）\n",
    "df = pd.read_excel('棉花产量论文作业的数据.xlsx', usecols='C:G')\n",
    "print(df)"
   ]
  },
  {
   "cell_type": "markdown",
   "metadata": {},
   "source": [
    "## 数据矩阵化与标准化"
   ]
  },
  {
   "cell_type": "code",
   "execution_count": 2,
   "metadata": {},
   "outputs": [
    {
     "name": "stdout",
     "output_type": "stream",
     "text": [
      "[[ 106.05  495.15  305.1    45.9    56.1 ]\n",
      " [ 113.55  561.45  343.8    68.55   93.3 ]\n",
      " [ 104.55  584.85  414.     73.2   104.55]\n",
      " [ 132.75  658.35  453.75   82.95  107.55]\n",
      " [ 174.3   904.05  625.05  114.    152.1 ]\n",
      " [ 230.4  1248.75  834.45  143.85  176.4 ]\n",
      " [ 238.2  1361.55  720.75  165.15  194.25]\n",
      " [ 260.1  1337.4   727.65  201.9   291.75]\n",
      " [ 270.6  1195.8   775.5   220.5   271.35]\n",
      " [ 286.2  1171.8   610.95  195.    284.55]\n",
      " [ 282.9  1151.55  599.85  190.65  277.35]\n",
      " [ 317.85 1105.8   553.8   211.05  290.1 ]\n",
      " [ 319.65 1213.05  513.75  231.6   324.15]\n",
      " [ 368.4  1274.1   567.45  239.85  331.8 ]\n",
      " [ 466.2  1527.9   487.35  408.    336.15]\n",
      " [ 449.85 1703.25  555.15  402.3   358.8 ]\n",
      " [ 537.   1888.5   637.2   480.75  428.4 ]\n",
      " [ 565.5  2009.85  715.65  562.05  456.9 ]]\n"
     ]
    }
   ],
   "source": [
    "# df.to_numpy 是 pandas 中 DataFrame 对象的一个方法，用于将 DataFrame 的数据转换为 NumPy 数组。\n",
    "x = df.to_numpy()\n",
    "print(x)\n",
    "# 标准化数据\n",
    "X = (x - np.mean(x, axis=0)) / np.std(x, ddof=1, axis=0)"
   ]
  },
  {
   "cell_type": "markdown",
   "metadata": {},
   "source": [
    "# Step2. 计算协方差矩阵与特征值"
   ]
  },
  {
   "cell_type": "code",
   "execution_count": 6,
   "metadata": {},
   "outputs": [
    {
     "name": "stdout",
     "output_type": "stream",
     "text": [
      "特征值为：\n",
      "[0.01044696 0.02069963 0.08165257 0.79266524 4.09453559]\n",
      "降序特征值为：\n",
      "[4.09453559 0.79266524 0.08165257 0.02069963 0.01044696]\n",
      "与降序特征值对应的特征向量矩阵为：\n",
      "[[-0.48104689  0.23837363 -0.01782683 -0.0038534   0.84346859]\n",
      " [-0.48753322 -0.07920883 -0.33594594 -0.7565078  -0.26622096]\n",
      " [-0.28138862 -0.92242424 -0.00452323  0.24430868  0.10122639]\n",
      " [-0.47315152  0.26834026 -0.46128305  0.60577733 -0.35266544]\n",
      " [-0.47733984  0.11845256  0.82098722  0.03206562 -0.28821424]]\n"
     ]
    }
   ],
   "source": [
    "# 计算协方差矩阵\n",
    "R = np.cov(X.T)\n",
    "\n",
    "# 计算特征值和特征向量\n",
    "eigenvalues, eigenvectors = linalg.eigh(R)\n",
    "print('特征值为：')\n",
    "print(eigenvalues)\n",
    "# 将特征值数组按降序排列\n",
    "eigenvalues = eigenvalues[::-1]\n",
    "# 将特征向量矩阵的列按降序排列\n",
    "eigenvectors = eigenvectors[:, ::-1]\n",
    "print('降序特征值为：')\n",
    "print(eigenvalues)\n",
    "\n",
    "# 打印结果\n",
    "print('与降序特征值对应的特征向量矩阵为：')\n",
    "print(eigenvectors)\n"
   ]
  },
  {
   "cell_type": "markdown",
   "metadata": {},
   "source": [
    "# Step3. 计算贡献率"
   ]
  },
  {
   "cell_type": "code",
   "execution_count": 7,
   "metadata": {},
   "outputs": [
    {
     "name": "stdout",
     "output_type": "stream",
     "text": [
      "贡献率为：\n",
      "[0.81890712 0.15853305 0.01633051 0.00413993 0.00208939]\n",
      "累计贡献率为：\n",
      "[0.81890712 0.97744017 0.99377068 0.99791061 1.        ]\n"
     ]
    }
   ],
   "source": [
    "# 计算主成分贡献率和累积贡献率\n",
    "contribution_rate = eigenvalues / sum(eigenvalues)\n",
    "# np.cumsum 是 NumPy 库中的一个函数，用于计算数组元素的累积和。\n",
    "cum_contribution_rate = np.cumsum(contribution_rate)\n",
    "\n",
    "print('贡献率为：')\n",
    "print(contribution_rate)\n",
    "print('累计贡献率为：')\n",
    "print(cum_contribution_rate)\n"
   ]
  }
 ],
 "metadata": {
  "kernelspec": {
   "display_name": "Python 3",
   "language": "python",
   "name": "python3"
  },
  "language_info": {
   "codemirror_mode": {
    "name": "ipython",
    "version": 3
   },
   "file_extension": ".py",
   "mimetype": "text/x-python",
   "name": "python",
   "nbconvert_exporter": "python",
   "pygments_lexer": "ipython3",
   "version": "3.11.6"
  }
 },
 "nbformat": 4,
 "nbformat_minor": 2
}
