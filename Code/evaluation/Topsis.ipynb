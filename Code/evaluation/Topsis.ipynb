{
 "cells": [
  {
   "cell_type": "markdown",
   "metadata": {},
   "source": [
    "# 原始矩阵正向化函数"
   ]
  },
  {
   "cell_type": "code",
   "execution_count": 1,
   "metadata": {},
   "outputs": [],
   "source": [
    "import numpy as np\n",
    "# 极小型指标转化为极大型指标的函数\n",
    "def minTomax(maxx, x):\n",
    "    x = list(x)  # 将输入的指标数据转换为列表\n",
    "    ans = [[(maxx-e)] for e in x]  # 计算最大值与每个指标值的差，并将其放入新列表中\n",
    "    return np.array(ans)  # 将列表转换为numpy数组并返回\n",
    "\n",
    "# 中间型指标转化为极大型指标的函数\n",
    "def midTomax(bestx, x):\n",
    "    x = list(x)  # 将输入的指标数据转换为列表\n",
    "    h = [abs(e-bestx) for e in x]  # 计算每个指标值与最优值之间的绝对差\n",
    "    M = max(h)  # 找到最大的差值\n",
    "    if M == 0:\n",
    "        M = 1  # 防止最大差值为0的情况\n",
    "    ans = [[(1-e/M)] for e in h]  # 计算每个差值占最大差值的比例，并从1中减去，得到新指标值\n",
    "    return np.array(ans)  # 返回处理后的numpy数组\n",
    "\n",
    "# 区间型指标转化为极大型指标的函数\n",
    "def regTomax(lowx, highx, x):\n",
    "    x = list(x)  # 将输入的指标数据转换为列表\n",
    "    M = max(lowx-min(x), max(x)-highx)  # 计算指标值超出区间的最大距离\n",
    "    if M == 0:\n",
    "        M = 1  # 防止最大距离为0的情况\n",
    "    ans = []\n",
    "    for i in range(len(x)):\n",
    "        if x[i]<lowx:\n",
    "            ans.append([(1-(lowx-x[i])/M)])  # 如果指标值小于下限，则计算其与下限的距离比例\n",
    "        elif x[i]>highx:\n",
    "            ans.append([(1-(x[i]-highx)/M)])  # 如果指标值大于上限，则计算其与上限的距离比例\n",
    "        else:\n",
    "            ans.append([1])  # 如果指标值在区间内，则直接取为1\n",
    "    return np.array(ans)  # 返回处理后的numpy数组\n"
   ]
  },
  {
   "cell_type": "markdown",
   "metadata": {},
   "source": [
    "# 数据初始化"
   ]
  },
  {
   "cell_type": "code",
   "execution_count": 2,
   "metadata": {},
   "outputs": [],
   "source": [
    "\n",
    "A = [[9,10,175,120], [8,7,164,80],[6,3,157,90]]\n",
    "A = np.array(A)\n",
    "objectNum = len(A)\n",
    "indicatorNum = len(A[0])\n",
    "\n",
    "# 指标类型，按顺序输入，1:极大型，2：极小型，3：中间型，4：区间型\n",
    "kind = [1,2,3,4]\n",
    "\n",
    "# 中间值的最优值\n",
    "bestA = 165\n",
    "# 区间型的最大值和最小值\n",
    "lowA = 90\n",
    "highA = 100"
   ]
  },
  {
   "cell_type": "markdown",
   "metadata": {},
   "source": [
    "# Step1. 矩阵正向化"
   ]
  },
  {
   "cell_type": "code",
   "execution_count": 3,
   "metadata": {},
   "outputs": [
    {
     "name": "stdout",
     "output_type": "stream",
     "text": [
      "统一指标后矩阵为：\n",
      "[[9.  0.  0.  0. ]\n",
      " [8.  3.  0.9 0.5]\n",
      " [6.  7.  0.2 1. ]]\n"
     ]
    }
   ],
   "source": [
    "X = np.zeros(shape=(objectNum, 0))  # 初始化为 0 列，因为后续会逐列拼接\n",
    "\n",
    "for i in range(indicatorNum):\n",
    "    if kind[i] == 1:  # 如果当前指标为极大型，则直接使用原值\n",
    "        v = np.array(A[:, i])\n",
    "    elif kind[i] == 2:  # 如果当前指标为极小型，调用 minTomax 函数转换\n",
    "        maxA = max(A[:, i])\n",
    "        v = minTomax(maxA, A[:, i])\n",
    "    elif kind[i] == 3:  # 如果当前指标为中间型，调用 midTomax 函数转换\n",
    "        v = midTomax(bestA, A[:, i])\n",
    "    elif kind[i] == 4:  # 如果当前指标为区间型，调用 regTomax 函数转换\n",
    "        v = regTomax(lowA, highA, A[:, i])\n",
    "    \n",
    "    if i==0:\n",
    "        X = v.reshape(-1, 1)\n",
    "    else:\n",
    "        X = np.hstack([X, v])  # 否则，将新指标列拼接到 X 数组上\n",
    "\n",
    "print(\"统一指标后矩阵为：\\n{}\".format(X))  # 打印处理后的矩阵 X"
   ]
  },
  {
   "cell_type": "markdown",
   "metadata": {},
   "source": [
    "# Step2. 标准化正向矩阵"
   ]
  },
  {
   "cell_type": "code",
   "execution_count": 4,
   "metadata": {},
   "outputs": [
    {
     "name": "stdout",
     "output_type": "stream",
     "text": [
      "标准化矩阵为：\n",
      "[[0.66896473 0.         0.         0.        ]\n",
      " [0.59463532 0.3939193  0.97618706 0.4472136 ]\n",
      " [0.44597649 0.91914503 0.21693046 0.89442719]]\n"
     ]
    }
   ],
   "source": [
    "X = X.astype('float')  # 确保X矩阵的数据类型为浮点数\n",
    "for j in range(indicatorNum):\n",
    "    col_min = np.min(X[:, j])\n",
    "    col_max = np.max(X[:, j])\n",
    "    \n",
    "    if col_min < 0:  # 如果该列存在负数，使用 [0, 1] 区间的标准化公式\n",
    "        print(\"col_min < 0,包含负数\")\n",
    "        X[:, j] = (X[:, j] - col_min) / (col_max - col_min)\n",
    "    else:\n",
    "        # 原标准化方法\n",
    "        X[:, j] = X[:, j] / np.sqrt(sum(X[:, j]**2))\n",
    "print(\"标准化矩阵为：\\n{}\".format(X))  # 打印标准化后的矩阵X"
   ]
  },
  {
   "cell_type": "markdown",
   "metadata": {},
   "source": [
    "# Step3. 得到权重值\n",
    "使用：\n",
    "- 熵权法\n",
    "- AHP\n",
    "····"
   ]
  },
  {
   "cell_type": "markdown",
   "metadata": {},
   "source": []
  },
  {
   "cell_type": "markdown",
   "metadata": {},
   "source": [
    "# Step4. 计算得分"
   ]
  },
  {
   "cell_type": "code",
   "execution_count": 5,
   "metadata": {},
   "outputs": [
    {
     "name": "stdout",
     "output_type": "stream",
     "text": [
      "每个指标的最大值: [0.66896473 0.91914503 0.97618706 0.89442719]\n",
      "每个指标的最小值: [0.44597649 0.         0.         0.        ]\n",
      "d+向量: [1.61175952 0.69382053 0.79132442]\n",
      "d-向量: [0.22298824 1.15334862 1.30072534]\n",
      "第1个标准化后百分制得分为：8.886366735657832\n",
      "第2个标准化后百分制得分为：45.653341055701134\n",
      "第3个标准化后百分制得分为：45.46029220864103\n"
     ]
    }
   ],
   "source": [
    "# 最大值最小值距离的计算\n",
    "x_max = np.max(X, axis=0)  # 计算标准化矩阵每列的最大值\n",
    "x_min = np.min(X, axis=0)  # 计算标准化矩阵每列的最小值\n",
    "d_z = np.sqrt(np.sum(np.square((X - np.tile(x_max, (objectNum, 1)))), axis=1))  # 计算每个参评对象与最优情况的距离d+\n",
    "d_f = np.sqrt(np.sum(np.square((X - np.tile(x_min, (objectNum, 1)))), axis=1))  # 计算每个参评对象与最劣情况的距离d-\n",
    "print('每个指标的最大值:', x_max)\n",
    "print('每个指标的最小值:', x_min)\n",
    "print('d+向量:', d_z)\n",
    "print('d-向量:', d_f)\n",
    "\n",
    "# 计算每个参评对象的得分排名\n",
    "s = d_f/(d_z+d_f)  # 根据d+和d-计算得分s，其中s接近于1则表示较优，接近于0则表示较劣\n",
    "Score = 100*s/sum(s)  # 将得分s转换为百分制，便于比较\n",
    "for i in range(len(Score)):\n",
    "    print(f\"第{i+1}个标准化后百分制得分为：{Score[i]}\")  # 打印每个参评对象的得分"
   ]
  }
 ],
 "metadata": {
  "kernelspec": {
   "display_name": "Python 3",
   "language": "python",
   "name": "python3"
  },
  "language_info": {
   "codemirror_mode": {
    "name": "ipython",
    "version": 3
   },
   "file_extension": ".py",
   "mimetype": "text/x-python",
   "name": "python",
   "nbconvert_exporter": "python",
   "pygments_lexer": "ipython3",
   "version": "3.11.6"
  }
 },
 "nbformat": 4,
 "nbformat_minor": 2
}
