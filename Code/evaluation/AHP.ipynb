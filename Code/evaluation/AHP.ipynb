{
 "cells": [
  {
   "cell_type": "markdown",
   "metadata": {},
   "source": [
    "# Step 1.构建判断矩阵"
   ]
  },
  {
   "cell_type": "code",
   "execution_count": 1,
   "metadata": {},
   "outputs": [],
   "source": [
    "import numpy as np\n",
    "\n",
    "# Step 1.构建判断矩阵\n",
    "A = np.array([[1, 2, 3, 5], [1/2, 1, 1/2, 2], [1/3, 2, 1, 2], [1/5, 1/2, 1/2, 1]])\n",
    "\n",
    "# 获取指标数，便于从表中查值\n",
    "n = A.shape[0]"
   ]
  },
  {
   "cell_type": "markdown",
   "metadata": {},
   "source": [
    "# Step 2.一致性检验"
   ]
  },
  {
   "cell_type": "code",
   "execution_count": 2,
   "metadata": {},
   "outputs": [
    {
     "name": "stdout",
     "output_type": "stream",
     "text": [
      "CI= (0.03761001273071566+0j)\n",
      "RI= (0.033580368509567554+0j)\n",
      "CR<0.10\n"
     ]
    }
   ],
   "source": [
    "\n",
    "# 1. 求最大特征值\n",
    "#eig_vec特征向量, eig_val 特征值\n",
    "eig_val,eig_vec = np.linalg.eig(A)\n",
    "\n",
    "# 特征值的最大值\n",
    "Max_eig = max(eig_val)\n",
    "\n",
    "# 2. 计算CI 并查询得RI，得到 CR\n",
    "CI = (Max_eig - n) / (n - 1) \n",
    "RI = [0, 0.0001, 0.52, 0.89, 1.12, 1.26, 1.36, 1.41, 1.46, 1.49, 1.52, 1.54, 1.56, 1.58, 1.59] \n",
    "CR = CI/RI[n]\n",
    "\n",
    "print('CI=', CI)\n",
    "print('RI=', CR)\n",
    "\n",
    "if CR < 0.10:\n",
    "    print('CR<0.10')\n",
    "else:\n",
    "    print('CR >= 0.10')"
   ]
  },
  {
   "cell_type": "markdown",
   "metadata": {},
   "source": [
    "# Step 3.数据归一化"
   ]
  },
  {
   "cell_type": "code",
   "execution_count": 3,
   "metadata": {},
   "outputs": [
    {
     "name": "stdout",
     "output_type": "stream",
     "text": [
      "ASum= [ 2.03333333  5.5         5.         10.        ]\n",
      "[[0.492 0.364 0.6   0.5  ]\n",
      " [0.246 0.182 0.1   0.2  ]\n",
      " [0.164 0.364 0.2   0.2  ]\n",
      " [0.098 0.091 0.1   0.1  ]]\n"
     ]
    }
   ],
   "source": [
    "\n",
    "\n",
    "# 计算每列的和\n",
    "ASum = np.sum(A, axis=0)\n",
    "print('ASum=', ASum)\n",
    "# 归一化后的矩阵\n",
    "Stand_A = A / ASum\n",
    "Stand_A = np.round(Stand_A, 3)\n",
    "print(Stand_A)"
   ]
  },
  {
   "cell_type": "markdown",
   "metadata": {},
   "source": [
    "# Step 4.求权重值\n",
    "- 使用特征值法"
   ]
  },
  {
   "cell_type": "code",
   "execution_count": 4,
   "metadata": {},
   "outputs": [
    {
     "name": "stdout",
     "output_type": "stream",
     "text": [
      "[0.493 0.179 0.23  0.097]\n"
     ]
    }
   ],
   "source": [
    "\n",
    "\n",
    "# 找出最大特征值的索引和对应的特征向量\n",
    "max_index = np.argmax(eig_val)\n",
    "max_vector = eig_vec[:,max_index]\n",
    "\n",
    "#  对特征向量进行归一化处理得到权重\n",
    "weights = max_vector / np.sum(max_vector)\n",
    "weights_abs = abs(weights) \n",
    "weights_abs = np.round(weights_abs, 3)\n",
    "print(weights_abs)"
   ]
  },
  {
   "cell_type": "markdown",
   "metadata": {},
   "source": [
    "# Step 5.计算得分"
   ]
  },
  {
   "cell_type": "code",
   "execution_count": 5,
   "metadata": {},
   "outputs": [
    {
     "name": "stdout",
     "output_type": "stream",
     "text": [
      "[0.494212, 0.19625599999999999, 0.211408, 0.097303]\n"
     ]
    }
   ],
   "source": [
    "\n",
    "marks = [0] * n\n",
    "for i in range(n):\n",
    "    sum = 0\n",
    "    for j in range(n):\n",
    "        sum += Stand_A[i][j] * weights_abs[j]\n",
    "    marks[i] =sum\n",
    "\n",
    "print(marks)\n",
    "\n"
   ]
  }
 ],
 "metadata": {
  "kernelspec": {
   "display_name": "Python 3",
   "language": "python",
   "name": "python3"
  },
  "language_info": {
   "codemirror_mode": {
    "name": "ipython",
    "version": 3
   },
   "file_extension": ".py",
   "mimetype": "text/x-python",
   "name": "python",
   "nbconvert_exporter": "python",
   "pygments_lexer": "ipython3",
   "version": "3.11.6"
  }
 },
 "nbformat": 4,
 "nbformat_minor": 2
}
