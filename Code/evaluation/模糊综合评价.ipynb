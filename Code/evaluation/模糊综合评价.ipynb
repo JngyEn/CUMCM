{
 "cells": [
  {
   "cell_type": "markdown",
   "metadata": {},
   "source": [
    "# 多参差模糊综合评价\n",
    "\n",
    "代码为单层次，需要的时候自己调"
   ]
  },
  {
   "cell_type": "markdown",
   "metadata": {},
   "source": [
    "# Step 1. 确定隶属度\n",
    "根据数据分布特性构造隶属函数，此处只使用梯形型的偏大偏小以及中间型\n"
   ]
  },
  {
   "cell_type": "markdown",
   "metadata": {},
   "source": [
    "## 函数构造"
   ]
  },
  {
   "cell_type": "markdown",
   "metadata": {},
   "source": [
    "- 偏小型："
   ]
  },
  {
   "cell_type": "code",
   "execution_count": 8,
   "metadata": {},
   "outputs": [],
   "source": [
    "import numpy as np\n",
    "def trapezoid_min(x, a, d):\n",
    "    \"\"\"\n",
    "    梯形隶属函数。\n",
    "    \n",
    "    :param x: 输入值\n",
    "    :param a: 左端点\n",
    "    :param b: 中间左点\n",
    "    :param c: 中间右点\n",
    "    :param d: 右端点\n",
    "    :return: 隶属度\n",
    "    \"\"\"\n",
    "    if x <= a:\n",
    "        return 1\n",
    "    elif a <= x <= d:\n",
    "        return (d-x)/(d-a)\n",
    "    else:  # x > d\n",
    "        return 0\n"
   ]
  },
  {
   "cell_type": "markdown",
   "metadata": {},
   "source": [
    "- 中间型："
   ]
  },
  {
   "cell_type": "code",
   "execution_count": null,
   "metadata": {},
   "outputs": [],
   "source": [
    "def trapezoid_mid(x, a, b, c, d):\n",
    "    \"\"\"\n",
    "    梯形隶属函数。\n",
    "    \n",
    "    :param x: 输入值\n",
    "    :param a: 左端点\n",
    "    :param b: 中间左点\n",
    "    :param c: 中间右点\n",
    "    :param d: 右端点\n",
    "    :return: 隶属度\n",
    "    \"\"\"\n",
    "    if x <= a:\n",
    "        return 0\n",
    "    elif a <= x <= b:\n",
    "        return (x - a) / (b - a)\n",
    "    elif b < x <= c:\n",
    "        return 1\n",
    "    elif c < x <= d:\n",
    "        return (d - x) / (d - c)\n",
    "    else:  # x > d\n",
    "        return 0"
   ]
  },
  {
   "cell_type": "markdown",
   "metadata": {},
   "source": [
    "- 偏大型："
   ]
  },
  {
   "cell_type": "code",
   "execution_count": null,
   "metadata": {},
   "outputs": [],
   "source": [
    "def trapezoid_max(x, a, d):\n",
    "    \"\"\"\n",
    "    梯形隶属函数。\n",
    "    \n",
    "    :param x: 输入值\n",
    "    :param a: 左端点\n",
    "    :param b: 中间左点\n",
    "    :param c: 中间右点\n",
    "    :param d: 右端点\n",
    "    :return: 隶属度\n",
    "    \"\"\"\n",
    "    if x <= a:\n",
    "        return 0\n",
    "    elif a <= x <= d:\n",
    "        return (x-a)/(d-a)\n",
    "    else:  # x > d\n",
    "        return 1"
   ]
  },
  {
   "cell_type": "markdown",
   "metadata": {},
   "source": [
    "## 构造出指标的隶属度矩阵\n",
    "- X 为评价层次\n",
    "- Y 为不同的指标"
   ]
  },
  {
   "cell_type": "code",
   "execution_count": 9,
   "metadata": {},
   "outputs": [],
   "source": [
    "# 对每个指标选取合适的函数进行计算\n",
    "membership_matrix = np.array([\n",
    "     [0.18, 0.14, 0.18, 0.14, 0.13, 0.23],\n",
    "     [0.15, 0.20, 0.15, 0.25, 0.10, 0.15],\n",
    "     [0.25, 0.12, 0.13, 0.12, 0.18, 0.20],\n",
    "     [0.16, 0.15, 0.21, 0.11, 0.20, 0.17],\n",
    "     [0.23, 0.18, 0.17, 0.16, 0.15, 0.11],\n",
    "     [0.19, 0.13, 0.12, 0.12, 0.11, 0.33],\n",
    "     [0.17, 0.16, 0.15, 0.08, 0.25, 0.19]])"
   ]
  },
  {
   "cell_type": "markdown",
   "metadata": {},
   "source": [
    "## 权重确定"
   ]
  },
  {
   "cell_type": "markdown",
   "metadata": {},
   "source": [
    "- 熵权法确定所有指标相对于最终结果的权重\n",
    "- 在多层次中，是低层次对高层次的权重"
   ]
  },
  {
   "cell_type": "code",
   "execution_count": 15,
   "metadata": {},
   "outputs": [
    {
     "name": "stdout",
     "output_type": "stream",
     "text": [
      "===============熵权法启动！=======================\n",
      "标准化矩阵 Z = \n",
      "[[0.43176518 0.35355339 0.58827601 0.38445547 0.55075011 0.42190981\n",
      "  0.39848615]\n",
      " [0.33581737 0.47140452 0.28237248 0.360427   0.43102183 0.28867513\n",
      "  0.37504578]\n",
      " [0.43176518 0.35355339 0.30590352 0.5045978  0.40707617 0.26646936\n",
      "  0.35160542]\n",
      " [0.33581737 0.58925565 0.28237248 0.26431313 0.38313051 0.26646936\n",
      "  0.18752289]\n",
      " [0.31183041 0.23570226 0.42355872 0.48056933 0.35918486 0.24426358\n",
      "  0.58600904]\n",
      " [0.55169996 0.35355339 0.47062081 0.40848393 0.26340223 0.73279073\n",
      "  0.44536687]]\n",
      "权重 W = \n",
      "[0.07221732 0.1374572  0.14167441 0.07101407 0.08126827 0.32662567\n",
      " 0.16974307]\n",
      "===============熵权法结束=======================\n"
     ]
    }
   ],
   "source": [
    "import 熵权法Exp as sq\n",
    "# 输入指标的隶属度矩阵\n",
    "X = np.array([\n",
    "     [0.18, 0.14, 0.18, 0.14, 0.13, 0.23],\n",
    "     [0.15, 0.20, 0.15, 0.25, 0.10, 0.15],\n",
    "     [0.25, 0.12, 0.13, 0.12, 0.18, 0.20],\n",
    "     [0.16, 0.15, 0.21, 0.11, 0.20, 0.17],\n",
    "     [0.23, 0.18, 0.17, 0.16, 0.15, 0.11],\n",
    "     [0.19, 0.13, 0.12, 0.12, 0.11, 0.33],\n",
    "     [0.17, 0.16, 0.15, 0.08, 0.25, 0.19]])\n",
    "# 隶属度矩阵转置后使用熵权法，得到每一个评价指标的权重\n",
    "X = X.T\n",
    "# 获得权重矩阵\n",
    "weights = sq.entropy_weight(X)"
   ]
  },
  {
   "cell_type": "markdown",
   "metadata": {},
   "source": [
    "- AHP确定权重"
   ]
  },
  {
   "cell_type": "code",
   "execution_count": 14,
   "metadata": {},
   "outputs": [
    {
     "name": "stdout",
     "output_type": "stream",
     "text": [
      "===============AHP启动！=======================\n",
      "CI= (-1+0j)\n",
      "RI= (-0.7352941176470588+0j)\n",
      "CR<0.10, correct! \n",
      "ASum= [1.16 0.92 0.96 0.9  0.87 1.19]\n",
      "[[0.155 0.152 0.188 0.156 0.149 0.193]\n",
      " [0.129 0.217 0.156 0.278 0.115 0.126]\n",
      " [0.216 0.13  0.135 0.133 0.207 0.168]\n",
      " [0.138 0.163 0.219 0.122 0.23  0.143]\n",
      " [0.198 0.196 0.177 0.178 0.172 0.092]\n",
      " [0.164 0.141 0.125 0.133 0.126 0.277]]\n",
      "[0.167 0.167 0.167 0.167 0.167 0.167]\n",
      "weighs are:  [0.165831, 0.17050700000000002, 0.16516300000000003, 0.16950500000000002, 0.169171, 0.16132200000000002]\n",
      "===============AHP结束=======================\n"
     ]
    }
   ],
   "source": [
    "import AHPFunc as AHP\n",
    "# 输入判断矩阵,必须是方阵，不用转置\n",
    "X = np.array([\n",
    "     [0.18, 0.14, 0.18, 0.14, 0.13, 0.23],\n",
    "     [0.15, 0.20, 0.15, 0.25, 0.10, 0.15],\n",
    "     [0.25, 0.12, 0.13, 0.12, 0.18, 0.20],\n",
    "     [0.16, 0.15, 0.21, 0.11, 0.20, 0.17],\n",
    "     [0.23, 0.18, 0.17, 0.16, 0.15, 0.11],\n",
    "     [0.19, 0.13, 0.12, 0.12, 0.11, 0.33]])\n",
    "# 获得权重矩阵\n",
    "weights = AHP.AHP(X)"
   ]
  },
  {
   "cell_type": "markdown",
   "metadata": {},
   "source": [
    "# Step2. 合成权重，得到评价"
   ]
  },
  {
   "cell_type": "markdown",
   "metadata": {},
   "source": [
    "## 权重合成"
   ]
  },
  {
   "cell_type": "code",
   "execution_count": 16,
   "metadata": {},
   "outputs": [
    {
     "name": "stdout",
     "output_type": "stream",
     "text": [
      "[0.07221732 0.1374572  0.14167441 0.07101407 0.08126827 0.32662567\n",
      " 0.16974307]\n",
      "[[0.18 0.14 0.18 0.14 0.13 0.23]\n",
      " [0.15 0.2  0.15 0.25 0.1  0.15]\n",
      " [0.25 0.12 0.13 0.12 0.18 0.2 ]\n",
      " [0.16 0.15 0.21 0.11 0.2  0.17]\n",
      " [0.23 0.18 0.17 0.16 0.15 0.11]\n",
      " [0.19 0.13 0.12 0.12 0.11 0.33]\n",
      " [0.17 0.16 0.15 0.08 0.25 0.19]]\n"
     ]
    }
   ],
   "source": [
    "print(weights)\n",
    "print(membership_matrix)"
   ]
  },
  {
   "cell_type": "code",
   "execution_count": 17,
   "metadata": {},
   "outputs": [
    {
     "name": "stdout",
     "output_type": "stream",
     "text": [
      "评分为：\n",
      "[0.19000545 0.14950342 0.14542047 0.13506465 0.15339301 0.226613  ]\n"
     ]
    }
   ],
   "source": [
    "weights = np.array(weights)\n",
    "\n",
    "marks = np.dot(weights,membership_matrix)\n",
    "print(\"评分为：\")\n",
    "print(marks)"
   ]
  }
 ],
 "metadata": {
  "kernelspec": {
   "display_name": "Python 3",
   "language": "python",
   "name": "python3"
  },
  "language_info": {
   "codemirror_mode": {
    "name": "ipython",
    "version": 3
   },
   "file_extension": ".py",
   "mimetype": "text/x-python",
   "name": "python",
   "nbconvert_exporter": "python",
   "pygments_lexer": "ipython3",
   "version": "3.11.6"
  }
 },
 "nbformat": 4,
 "nbformat_minor": 2
}
