{
 "cells": [
  {
   "cell_type": "markdown",
   "metadata": {},
   "source": [
    "# 工具函数"
   ]
  },
  {
   "cell_type": "code",
   "execution_count": 16,
   "metadata": {},
   "outputs": [],
   "source": [
    "import numpy as np\n",
    "\n",
    "# 计算熵权的对数运算\n",
    "def mylog(p):\n",
    "    n = len(p)  # 获取输入向量p的长度\n",
    "    lnp = np.zeros(n)  # 创建一个长度为n，元素都为0的新数组lnp\n",
    "    for i in range(n):  # 对向量p的每一个元素进行循环\n",
    "        if p[i] == 0:  # 如果当前元素的值为0\n",
    "            lnp[i] = 0  # 则在lnp中对应位置也设置为0，因为log(0)是未定义的，这里我们规定为0\n",
    "        else:\n",
    "            lnp[i] = np.log(p[i])  # 如果p[i]不为0，则计算其自然对数并赋值给lnp的对应位置\n",
    "    return lnp  # 返回计算后的对数数组\n",
    "\n",
    "# 正向化函数\n",
    "# 极小型指标转化为极大型指标的函数\n",
    "def minTomax(maxx, x):\n",
    "    x = list(x)  # 将输入的指标数据转换为列表\n",
    "    ans = [[(maxx-e)] for e in x]  # 计算最大值与每个指标值的差，并将其放入新列表中\n",
    "    return np.array(ans)  # 将列表转换为numpy数组并返回\n",
    "\n",
    "# 中间型指标转化为极大型指标的函数\n",
    "def midTomax(bestx, x):\n",
    "    x = list(x)  # 将输入的指标数据转换为列表\n",
    "    h = [abs(e-bestx) for e in x]  # 计算每个指标值与最优值之间的绝对差\n",
    "    M = max(h)  # 找到最大的差值\n",
    "    if M == 0:\n",
    "        M = 1  # 防止最大差值为0的情况\n",
    "    ans = [[(1-e/M)] for e in h]  # 计算每个差值占最大差值的比例，并从1中减去，得到新指标值\n",
    "    return np.array(ans)  # 返回处理后的numpy数组\n",
    "\n",
    "# 区间型指标转化为极大型指标的函数\n",
    "def regTomax(lowx, highx, x):\n",
    "    x = list(x)  # 将输入的指标数据转换为列表\n",
    "    M = max(lowx-min(x), max(x)-highx)  # 计算指标值超出区间的最大距离\n",
    "    if M == 0:\n",
    "        M = 1  # 防止最大距离为0的情况\n",
    "    ans = []\n",
    "    for i in range(len(x)):\n",
    "        if x[i]<lowx:\n",
    "            ans.append([(1-(lowx-x[i])/M)])  # 如果指标值小于下限，则计算其与下限的距离比例\n",
    "        elif x[i]>highx:\n",
    "            ans.append([(1-(x[i]-highx)/M)])  # 如果指标值大于上限，则计算其与上限的距离比例\n",
    "        else:\n",
    "            ans.append([1])  # 如果指标值在区间内，则直接取为1\n",
    "    return np.array(ans)  # 返回处理后的numpy数组\n",
    "\n"
   ]
  },
  {
   "cell_type": "markdown",
   "metadata": {},
   "source": [
    "# Step1. 数据标准化流程"
   ]
  },
  {
   "cell_type": "code",
   "execution_count": 17,
   "metadata": {},
   "outputs": [
    {
     "name": "stdout",
     "output_type": "stream",
     "text": [
      "[[  9.  10. 175. 120.]\n",
      " [  8.   7. 164.  70.]\n",
      " [  6.   3. 157.  90.]]\n"
     ]
    }
   ],
   "source": [
    "A = [[9,10,175,120], [8,7,164,70], [6,3,157,90]]\n",
    "A = np.array(A,dtype=float)\n",
    "objectNum = len(A)\n",
    "indicatorNum = len(A[0])\n",
    "\n",
    "# 指标类型，按顺序输入，1:极大型，2：极小型，3：中间型，4：区间型\n",
    "kind = [1,2,3,4]\n",
    "\n",
    "# 中间值的最优值\n",
    "bestA = 165\n",
    "# 区间型的最大值和最小值\n",
    "lowA = 90\n",
    "highA = 100\n",
    "\n",
    "print(A)"
   ]
  },
  {
   "cell_type": "markdown",
   "metadata": {},
   "source": [
    "## 数据正向化"
   ]
  },
  {
   "cell_type": "code",
   "execution_count": 18,
   "metadata": {},
   "outputs": [
    {
     "name": "stdout",
     "output_type": "stream",
     "text": [
      "统一指标后矩阵为：\n",
      "[[9.  0.  0.  0. ]\n",
      " [8.  3.  0.9 0. ]\n",
      " [6.  7.  0.2 1. ]]\n"
     ]
    }
   ],
   "source": [
    "X = np.zeros(shape=(objectNum, 0))  # 初始化为 0 列，因为后续会逐列拼接\n",
    "\n",
    "for i in range(indicatorNum):\n",
    "    if kind[i] == 1:  # 如果当前指标为极大型，则直接使用原值\n",
    "        v = np.array(A[:, i])\n",
    "    elif kind[i] == 2:  # 如果当前指标为极小型，调用 minTomax 函数转换\n",
    "        maxA = max(A[:, i])\n",
    "        v = minTomax(maxA, A[:, i])\n",
    "    elif kind[i] == 3:  # 如果当前指标为中间型，调用 midTomax 函数转换\n",
    "        v = midTomax(bestA, A[:, i])\n",
    "    elif kind[i] == 4:  # 如果当前指标为区间型，调用 regTomax 函数转换\n",
    "        v = regTomax(lowA, highA, A[:, i])\n",
    "    \n",
    "    if i==0:\n",
    "        X = v.reshape(-1, 1)\n",
    "    else:\n",
    "        X = np.hstack([X, v])  # 否则，将新指标列拼接到 X 数组上\n",
    "\n",
    "print(\"统一指标后矩阵为：\\n{}\".format(X))  # 打印处理后的矩阵 X"
   ]
  },
  {
   "cell_type": "markdown",
   "metadata": {},
   "source": [
    "## 数据标准化\n",
    "- 去量纲"
   ]
  },
  {
   "cell_type": "code",
   "execution_count": 19,
   "metadata": {},
   "outputs": [
    {
     "name": "stdout",
     "output_type": "stream",
     "text": [
      "[[0.66896473 0.         0.         0.        ]\n",
      " [0.59463532 0.3939193  0.97618706 0.        ]\n",
      " [0.44597649 0.91914503 0.21693046 1.        ]]\n"
     ]
    }
   ],
   "source": [
    "\n",
    "Z = X / np.sqrt(np.sum(X*X, axis=0))\n",
    "Z_abs = abs(Z) \n",
    "\n",
    "print(Z_abs)"
   ]
  },
  {
   "cell_type": "markdown",
   "metadata": {},
   "source": [
    "## 数据归一化"
   ]
  },
  {
   "cell_type": "code",
   "execution_count": 20,
   "metadata": {},
   "outputs": [
    {
     "name": "stdout",
     "output_type": "stream",
     "text": [
      "ASum= [1.70957654 1.31306433 1.19311752 1.        ]\n",
      "[[0.39130435 0.         0.         0.        ]\n",
      " [0.34782609 0.3        0.81818182 0.        ]\n",
      " [0.26086957 0.7        0.18181818 1.        ]]\n"
     ]
    }
   ],
   "source": [
    "ASum = np.sum(Z_abs, axis=0)\n",
    "print('ASum=', ASum)\n",
    "# 归一化后的矩阵\n",
    "Stand_A = Z_abs / ASum\n",
    "\n",
    "print(Stand_A)"
   ]
  },
  {
   "cell_type": "markdown",
   "metadata": {},
   "source": [
    "# Step2. 计算熵权"
   ]
  },
  {
   "cell_type": "code",
   "execution_count": 21,
   "metadata": {},
   "outputs": [
    {
     "name": "stdout",
     "output_type": "stream",
     "text": [
      "权重 weights_abs = \n",
      "[0.00611442 0.21926832 0.28073338 0.49388388]\n"
     ]
    }
   ],
   "source": [
    "D = np.zeros(indicatorNum)  # 初始化一个长度为m的数组D，用于保存每个指标的信息效用值\n",
    "# 计算每个指标的信息效用值\n",
    "for i in range(indicatorNum):  # 遍历Z的每一列\n",
    "    x = Stand_A[:, i]  # 获取Z的第i列，即第i个指标的所有数据\n",
    "    p = x / np.sum(x)  # 对第i个指标的数据进行归一化处理，得到概率分布p\n",
    "    # 使用自定义的mylog函数计算p的对数。需要注意的是，如果p中含有0，直接使用np.log会得到-inf，这里使用自定义函数避免这个问题\n",
    "    e = -np.sum(p * mylog(p)) / np.log(objectNum)  # 根据熵的定义计算第i个指标的信息熵e\n",
    "    D[i] = 1 - e  # 根据信息效用值的定义计算D[i]\n",
    "\n",
    "# 根据信息效用值计算各指标的权重\n",
    "W = D / np.sum(D)  # 将信息效用值D归一化，得到各指标的权重W\n",
    "\n",
    "# 取三位数\n",
    "print(\"权重 weights_abs = \")\n",
    "print(W)  # 打印得到的权重数组W"
   ]
  },
  {
   "cell_type": "markdown",
   "metadata": {},
   "source": [
    "# Step3. 计算结果"
   ]
  },
  {
   "cell_type": "code",
   "execution_count": 22,
   "metadata": {},
   "outputs": [
    {
     "name": "stdout",
     "output_type": "stream",
     "text": [
      "[0.0023926000338037167, 0.29759819581448405, 0.7000092041517122]\n"
     ]
    }
   ],
   "source": [
    "marks = [0] * objectNum\n",
    "for i in range(objectNum):\n",
    "    sum = 0\n",
    "    for j in range(indicatorNum):\n",
    "        sum += Stand_A[i][j] * W[j]\n",
    "    marks[i] =sum\n",
    "\n",
    "print(marks)"
   ]
  }
 ],
 "metadata": {
  "kernelspec": {
   "display_name": "Python 3",
   "language": "python",
   "name": "python3"
  },
  "language_info": {
   "codemirror_mode": {
    "name": "ipython",
    "version": 3
   },
   "file_extension": ".py",
   "mimetype": "text/x-python",
   "name": "python",
   "nbconvert_exporter": "python",
   "pygments_lexer": "ipython3",
   "version": "3.11.6"
  }
 },
 "nbformat": 4,
 "nbformat_minor": 2
}
