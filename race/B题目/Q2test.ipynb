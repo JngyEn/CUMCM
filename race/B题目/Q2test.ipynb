{
 "cells": [
  {
   "cell_type": "code",
   "execution_count": 102,
   "metadata": {},
   "outputs": [
    {
     "name": "stdout",
     "output_type": "stream",
     "text": [
      "Index(['情况', '零配件1次品率', '零配件1购买单价', '零配件1检测成本', '零配件2次品率', '零配件2购买单价',\n",
      "       '零配件2检测成本', '成品次品率', '成品装配成本', '成品检测成本', '成品市场售价', '调换费用', '拆解费用'],\n",
      "      dtype='object')\n"
     ]
    },
    {
     "data": {
      "text/html": [
       "<div>\n",
       "<style scoped>\n",
       "    .dataframe tbody tr th:only-of-type {\n",
       "        vertical-align: middle;\n",
       "    }\n",
       "\n",
       "    .dataframe tbody tr th {\n",
       "        vertical-align: top;\n",
       "    }\n",
       "\n",
       "    .dataframe thead th {\n",
       "        text-align: right;\n",
       "    }\n",
       "</style>\n",
       "<table border=\"1\" class=\"dataframe\">\n",
       "  <thead>\n",
       "    <tr style=\"text-align: right;\">\n",
       "      <th></th>\n",
       "      <th>情况</th>\n",
       "      <th>零配件1次品率</th>\n",
       "      <th>零配件1购买单价</th>\n",
       "      <th>零配件1检测成本</th>\n",
       "      <th>零配件2次品率</th>\n",
       "      <th>零配件2购买单价</th>\n",
       "      <th>零配件2检测成本</th>\n",
       "      <th>成品次品率</th>\n",
       "      <th>成品装配成本</th>\n",
       "      <th>成品检测成本</th>\n",
       "      <th>成品市场售价</th>\n",
       "      <th>调换费用</th>\n",
       "      <th>拆解费用</th>\n",
       "    </tr>\n",
       "  </thead>\n",
       "  <tbody>\n",
       "    <tr>\n",
       "      <th>0</th>\n",
       "      <td>1</td>\n",
       "      <td>0.1</td>\n",
       "      <td>4</td>\n",
       "      <td>2</td>\n",
       "      <td>0.1</td>\n",
       "      <td>18</td>\n",
       "      <td>3</td>\n",
       "      <td>0.1</td>\n",
       "      <td>6</td>\n",
       "      <td>3</td>\n",
       "      <td>56</td>\n",
       "      <td>6</td>\n",
       "      <td>5</td>\n",
       "    </tr>\n",
       "    <tr>\n",
       "      <th>1</th>\n",
       "      <td>2</td>\n",
       "      <td>0.2</td>\n",
       "      <td>4</td>\n",
       "      <td>2</td>\n",
       "      <td>0.2</td>\n",
       "      <td>18</td>\n",
       "      <td>3</td>\n",
       "      <td>0.2</td>\n",
       "      <td>6</td>\n",
       "      <td>3</td>\n",
       "      <td>56</td>\n",
       "      <td>6</td>\n",
       "      <td>5</td>\n",
       "    </tr>\n",
       "    <tr>\n",
       "      <th>2</th>\n",
       "      <td>3</td>\n",
       "      <td>0.1</td>\n",
       "      <td>4</td>\n",
       "      <td>2</td>\n",
       "      <td>0.1</td>\n",
       "      <td>18</td>\n",
       "      <td>3</td>\n",
       "      <td>0.1</td>\n",
       "      <td>6</td>\n",
       "      <td>3</td>\n",
       "      <td>56</td>\n",
       "      <td>30</td>\n",
       "      <td>5</td>\n",
       "    </tr>\n",
       "    <tr>\n",
       "      <th>3</th>\n",
       "      <td>4</td>\n",
       "      <td>0.2</td>\n",
       "      <td>4</td>\n",
       "      <td>1</td>\n",
       "      <td>0.2</td>\n",
       "      <td>18</td>\n",
       "      <td>1</td>\n",
       "      <td>0.2</td>\n",
       "      <td>6</td>\n",
       "      <td>2</td>\n",
       "      <td>56</td>\n",
       "      <td>30</td>\n",
       "      <td>5</td>\n",
       "    </tr>\n",
       "    <tr>\n",
       "      <th>4</th>\n",
       "      <td>5</td>\n",
       "      <td>0.1</td>\n",
       "      <td>4</td>\n",
       "      <td>8</td>\n",
       "      <td>0.2</td>\n",
       "      <td>18</td>\n",
       "      <td>1</td>\n",
       "      <td>0.1</td>\n",
       "      <td>6</td>\n",
       "      <td>2</td>\n",
       "      <td>56</td>\n",
       "      <td>10</td>\n",
       "      <td>5</td>\n",
       "    </tr>\n",
       "  </tbody>\n",
       "</table>\n",
       "</div>"
      ],
      "text/plain": [
       "   情况  零配件1次品率  零配件1购买单价  零配件1检测成本  零配件2次品率  零配件2购买单价  零配件2检测成本  成品次品率  \\\n",
       "0   1      0.1         4         2      0.1        18         3    0.1   \n",
       "1   2      0.2         4         2      0.2        18         3    0.2   \n",
       "2   3      0.1         4         2      0.1        18         3    0.1   \n",
       "3   4      0.2         4         1      0.2        18         1    0.2   \n",
       "4   5      0.1         4         8      0.2        18         1    0.1   \n",
       "\n",
       "   成品装配成本  成品检测成本  成品市场售价  调换费用  拆解费用  \n",
       "0       6       3      56     6     5  \n",
       "1       6       3      56     6     5  \n",
       "2       6       3      56    30     5  \n",
       "3       6       2      56    30     5  \n",
       "4       6       2      56    10     5  "
      ]
     },
     "execution_count": 102,
     "metadata": {},
     "output_type": "execute_result"
    }
   ],
   "source": [
    "import pandas as pd\n",
    "import matplotlib.pyplot as plt\n",
    "import seaborn as sns\n",
    "\n",
    "df = pd.read_excel(\"C:/Users/JngyEn/Downloads/2024/B题/表1test.xlsx\")\n",
    "df.columns = df.columns.str.replace(' ', '', regex=True)\n",
    "print(df.columns)\n",
    "\n",
    "df.head()"
   ]
  },
  {
   "cell_type": "code",
   "execution_count": 103,
   "metadata": {},
   "outputs": [],
   "source": [
    "# 定义一个函数，根据不同的情况选择对应的参数\n",
    "def get_parameters(case_number):\n",
    "    global a1, a2, a3, b1, b2, b3, c1, c2, c3, c4, d1, d2  # 声明要修改的全局变量\n",
    "    # 从表格中读取对应行的数据，case_number 是情况编号（1到6）\n",
    "    row = df.iloc[case_number - 1]\n",
    "    \n",
    "    # 零配件1的次品率、检测成本、购买单价\n",
    "    a1 = row['零配件1次品率']   # 零配件1次品率\n",
    "    a2 = row['零配件1检测成本']  # 零配件1检测成本\n",
    "    a3 = row['零配件1购买单价']  # 零配件1购买单价\n",
    "\n",
    "    # 零配件2的次品率、检测成本、购买单价\n",
    "    b1 = row['零配件2次品率']   # 零配件2次品率\n",
    "    b2 = row['零配件2检测成本']  # 零配件2检测成本\n",
    "    b3 = row['零配件2购买单价']  # 零配件2购买单价\n",
    "\n",
    "    # 成品的次品率、检测成本、装配成本、市场售价\n",
    "    c1 = row['成品次品率']       # 成品次品率\n",
    "    c2 = row['成品检测成本']     # 成品检测成本\n",
    "    c3 = row['成品装配成本']     # 成品装配成本\n",
    "    c4 = row['成品市场售价']     # 成品市场售价\n",
    "\n",
    "    # 不合格成品的调换损失和拆解费用\n",
    "    d1 = row['调换费用']         # 调换损失\n",
    "    d2 = row['拆解费用']         # 拆解费用\n"
   ]
  },
  {
   "cell_type": "code",
   "execution_count": 104,
   "metadata": {},
   "outputs": [],
   "source": [
    "import pulp\n",
    "\n",
    "# 定义问题\n",
    "problem = pulp.LpProblem(\"Production_Decision\", pulp.LpMinimize)\n",
    "\n",
    "# 定义变量 0 为否，1 为是\n",
    "x1 = pulp.LpVariable('x1', cat='Binary')  # 零配件1是否检测\n",
    "x2 = pulp.LpVariable('x2', cat='Binary')  # 零配件2是否检测\n",
    "x3 = pulp.LpVariable('x3', cat='Binary')  # 成品是否检测\n",
    "x4 = pulp.LpVariable('x4', cat='Binary')  # 不合格成品是否拆解"
   ]
  },
  {
   "cell_type": "code",
   "execution_count": 105,
   "metadata": {},
   "outputs": [],
   "source": [
    "N = 10000  # 假设总成品量"
   ]
  },
  {
   "cell_type": "code",
   "execution_count": 106,
   "metadata": {},
   "outputs": [],
   "source": [
    "\n",
    "# 参数设置，初始化为情况1的\n",
    "# 零配件1的次品率、检测成本、购买单价\n",
    "a1 = 0.1  # 零配件1的次品率\n",
    "a2 = 2    # 零配件1的检测成本\n",
    "a3 = 4    # 零配件1的购买单价\n",
    "\n",
    "# 零配件2的次品率、检测成本、购买单价\n",
    "b1 = 0.2  # 零配件2的次品率\n",
    "b2 = 3    # 零配件2的检测成本\n",
    "b3 = 18   # 零配件2的购买单价\n",
    "\n",
    "# 成品的次品率、检测成本、装配成本、市场售价\n",
    "c1 = 0.1  # 成品次品率\n",
    "c2 = 3    # 成品检测成本\n",
    "c3 = 6    # 成品装配成本\n",
    "c4 = 56   # 成品市场售价\n",
    "\n",
    "# 不合格成品的调换损失和拆解费用\n",
    "d1 = 6    # 调换损失\n",
    "d2 = 5    # 拆解费用\n",
    "\n",
    "# 假设值\n",
    "x1 = 0  # 零配件1是否检测\n",
    "x2 = 0  # 零配件2是否检测\n",
    "x3 = 0  # 成品是否检测\n",
    "x4 = 0  # 不合格成品是否拆解\n",
    "get_parameters(4)\n",
    "\n",
    "\n",
    "\n"
   ]
  },
  {
   "cell_type": "code",
   "execution_count": 107,
   "metadata": {},
   "outputs": [
    {
     "name": "stdout",
     "output_type": "stream",
     "text": [
      "组装后的次品的概率: 0.4879999999999999\n",
      "组装后的次品的个数: 4879.999999999999\n",
      "组装后的成品的个数: 5120.000000000001\n"
     ]
    }
   ],
   "source": [
    "# 组装后的次品的概率\n",
    "# 良品率\n",
    "c_good = (1 - a1 * (1 - x1)) * (1 - b1 * (1 - x2)) * (1 - c1 * (1 - x3))\n",
    "c5 = 1 - c_good\n",
    "\n",
    "# 最终次品个数\n",
    "c_defective_num = c5 * N \n",
    "\n",
    "# 最终成品个数\n",
    "c_sell_num = N - c_defective_num\n",
    "\n",
    "print (\"组装后的次品的概率:\",c5)\n",
    "print (\"组装后的次品的个数:\",c_defective_num)\n",
    "print (\"组装后的成品的个数:\",c_sell_num)"
   ]
  },
  {
   "cell_type": "markdown",
   "metadata": {},
   "source": [
    "# 部分函数定义"
   ]
  },
  {
   "cell_type": "markdown",
   "metadata": {},
   "source": [
    "## 零配件1"
   ]
  },
  {
   "cell_type": "code",
   "execution_count": 108,
   "metadata": {},
   "outputs": [],
   "source": [
    "# 采购数量\n",
    "a_N = N / (1-a1 * (1 - x1))\n",
    "\n",
    "# 采购成本\n",
    "a_cost = a3 * a_N\n",
    "\n",
    "# 检测成本\n",
    "a_detect_cost =  x1 * a2 * N / (1 - a1)"
   ]
  },
  {
   "cell_type": "markdown",
   "metadata": {},
   "source": [
    "## 零部件2"
   ]
  },
  {
   "cell_type": "code",
   "execution_count": 109,
   "metadata": {},
   "outputs": [
    {
     "name": "stdout",
     "output_type": "stream",
     "text": [
      "0.0\n"
     ]
    }
   ],
   "source": [
    "# 采购数量\n",
    "b_N = N / (1-b1 * (1 - x2))\n",
    "\n",
    "# 采购成本\n",
    "b_cost = b3 * b_N\n",
    "\n",
    "# 检测成本\n",
    "b_detect_cost = b2 * N / (1 - b1) * x2\n",
    "print(b_detect_cost)"
   ]
  },
  {
   "cell_type": "markdown",
   "metadata": {},
   "source": [
    "## 成品"
   ]
  },
  {
   "cell_type": "code",
   "execution_count": 110,
   "metadata": {},
   "outputs": [],
   "source": [
    "# 装配价格\n",
    "c_cost = N * c3"
   ]
  },
  {
   "cell_type": "code",
   "execution_count": 111,
   "metadata": {},
   "outputs": [],
   "source": [
    "\n",
    "# 检测价格\n",
    "c_detect_cost = N * c2 * x3\n"
   ]
  },
  {
   "cell_type": "code",
   "execution_count": 112,
   "metadata": {},
   "outputs": [],
   "source": [
    "# 调换损失\n",
    "c_lose = (1 - x3)  * c_defective_num * d1 "
   ]
  },
  {
   "cell_type": "code",
   "execution_count": 113,
   "metadata": {},
   "outputs": [
    {
     "name": "stdout",
     "output_type": "stream",
     "text": [
      "拆解计算： -7.0\n"
     ]
    }
   ],
   "source": [
    "# ================================== 仔细斟酌 ================================\n",
    "# 拆解成本，零件1 检测之后，肯定没有次品，那么拆出来的零件1 就不需要检测了\n",
    "c_dismantle_cost = x4 * ((d2+c3) - (a3 + b3) + ((1 - x1) * a2 + (1 - x2)*b2 + (1-x3)*c2))*c_defective_num\n",
    "print(\"拆解计算：\",((d2+c3) - (a3 + b3) + ((1 - x1) * a2 + (1 - x2)*b2 + (1-x3)*c2)))"
   ]
  },
  {
   "cell_type": "markdown",
   "metadata": {},
   "source": [
    "目前的想法是，既然是调换，那么我给他一个好的，他还我一个坏的\n",
    "我同样要生产出成品之后再销售，相当于省掉了一笔原料购买的费用"
   ]
  },
  {
   "cell_type": "markdown",
   "metadata": {},
   "source": [
    "## 总成本和总利润"
   ]
  },
  {
   "cell_type": "code",
   "execution_count": 114,
   "metadata": {},
   "outputs": [],
   "source": [
    "Total_cost = a_cost + a_detect_cost + b_cost + b_detect_cost + c_cost + c_detect_cost +  c_lose + c_dismantle_cost\n",
    "\n",
    "Total_profit = c_sell_num * c4 - Total_cost\n"
   ]
  },
  {
   "cell_type": "code",
   "execution_count": 115,
   "metadata": {},
   "outputs": [
    {
     "name": "stdout",
     "output_type": "stream",
     "text": [
      "x1: 0 x2: 0 x3: 0 x4: 0\n",
      "a1: 0.2\n",
      "a2: 1.0\n",
      "a3: 4.0\n",
      "b1: 0.2\n",
      "b2: 1.0\n",
      "b3: 18.0\n",
      "c1: 0.2\n",
      "c2: 2.0\n",
      "c3: 6.0\n",
      "c4: 56.0\n",
      "d1: 30.0\n",
      "d2: 5.0\n",
      "c_good: 0.5120000000000001\n",
      "c5: 0.4879999999999999\n",
      "c_defective_num: 4879.999999999999\n",
      "c_sell_num: 5120.000000000001\n",
      "a_N: 12500.0\n",
      "a_cost: 50000.0\n",
      "a_detect_cost: 0.0\n",
      "b_N: 12500.0\n",
      "b_cost: 225000.0\n",
      "b_detect_cost: 0.0\n",
      "c_cost: 60000.0\n",
      "c_detect_cost: 0.0\n",
      "c_lose: 146399.99999999997\n",
      "c_dismantle_cost: -0.0\n",
      "Total_cost: 481400.0\n",
      "Total_profit: -194679.99999999994\n"
     ]
    }
   ],
   "source": [
    "print(\"x1:\", x1, \"x2:\", x2, \"x3:\", x3, \"x4:\", x4)\n",
    "variables = {\n",
    "    'a1': a1, 'a2': a2, 'a3': a3,\n",
    "    'b1': b1, 'b2': b2, 'b3': b3,\n",
    "    'c1': c1, 'c2': c2, 'c3': c3, 'c4': c4,\n",
    "    'd1': d1, 'd2': d2,\n",
    "    'c_good': c_good, 'c5': c5,\n",
    "    'c_defective_num': c_defective_num, 'c_sell_num': c_sell_num,\n",
    "    'a_N': a_N, 'a_cost': a_cost, 'a_detect_cost': a_detect_cost,\n",
    "    'b_N': b_N, 'b_cost': b_cost, 'b_detect_cost': b_detect_cost,\n",
    "    'c_cost': c_cost, 'c_detect_cost': c_detect_cost,\n",
    "    'c_lose': c_lose, 'c_dismantle_cost': c_dismantle_cost,\n",
    "    'Total_cost': Total_cost, \n",
    "    'Total_profit': Total_profit\n",
    "}\n",
    "    \n",
    "for key, value in variables.items():\n",
    "    print(f\"{key}: {value}\")"
   ]
  },
  {
   "cell_type": "code",
   "execution_count": 116,
   "metadata": {},
   "outputs": [
    {
     "name": "stdout",
     "output_type": "stream",
     "text": [
      "a_cost: 50000.0\n",
      "a_detect_cost: 0.0\n",
      "b_cost: 225000.0\n",
      "b_detect_cost: 0.0\n",
      "c_cost: 60000.0\n",
      "c_detect_cost: 0.0\n",
      "c_lose: 146399.99999999997\n",
      "c_dismantle_cost: -0.0\n",
      "c_sell: 5120.000000000001\n",
      "c4: 56.0\n",
      "Total_cost: 481400.0\n",
      "Total_profit: -194679.99999999994\n"
     ]
    }
   ],
   "source": [
    "print(f'a_cost: {a_cost}')\n",
    "print(f'a_detect_cost: {a_detect_cost}')\n",
    "print(f'b_cost: {b_cost}')\n",
    "print(f'b_detect_cost: {b_detect_cost}')\n",
    "print(f'c_cost: {c_cost}')\n",
    "print(f'c_detect_cost: {c_detect_cost}')\n",
    "print(f'c_lose: {c_lose}')\n",
    "print(f'c_dismantle_cost: {c_dismantle_cost}')\n",
    "print(f'c_sell: {c_sell_num}')\n",
    "print(f'c4: {c4}')\n",
    "print(f'Total_cost: {Total_cost}')\n",
    "print(f'Total_profit: {Total_profit}')"
   ]
  }
 ],
 "metadata": {
  "kernelspec": {
   "display_name": "Python 3",
   "language": "python",
   "name": "python3"
  },
  "language_info": {
   "codemirror_mode": {
    "name": "ipython",
    "version": 3
   },
   "file_extension": ".py",
   "mimetype": "text/x-python",
   "name": "python",
   "nbconvert_exporter": "python",
   "pygments_lexer": "ipython3",
   "version": "3.11.6"
  }
 },
 "nbformat": 4,
 "nbformat_minor": 2
}
