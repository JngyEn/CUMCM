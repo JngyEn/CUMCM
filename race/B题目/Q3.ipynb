{
 "cells": [
  {
   "cell_type": "code",
   "execution_count": 2,
   "metadata": {},
   "outputs": [
    {
     "data": {
      "text/html": [
       "<div>\n",
       "<style scoped>\n",
       "    .dataframe tbody tr th:only-of-type {\n",
       "        vertical-align: middle;\n",
       "    }\n",
       "\n",
       "    .dataframe tbody tr th {\n",
       "        vertical-align: top;\n",
       "    }\n",
       "\n",
       "    .dataframe thead th {\n",
       "        text-align: right;\n",
       "    }\n",
       "</style>\n",
       "<table border=\"1\" class=\"dataframe\">\n",
       "  <thead>\n",
       "    <tr style=\"text-align: right;\">\n",
       "      <th></th>\n",
       "      <th>成品</th>\n",
       "      <th>成品次品率</th>\n",
       "      <th>成品装配成本</th>\n",
       "      <th>成品检测成本</th>\n",
       "      <th>成品拆解费用</th>\n",
       "      <th>成品市场售价</th>\n",
       "      <th>成品调换损失</th>\n",
       "    </tr>\n",
       "  </thead>\n",
       "  <tbody>\n",
       "    <tr>\n",
       "      <th>0</th>\n",
       "      <td>1</td>\n",
       "      <td>0.1</td>\n",
       "      <td>8</td>\n",
       "      <td>6</td>\n",
       "      <td>10</td>\n",
       "      <td>200</td>\n",
       "      <td>40</td>\n",
       "    </tr>\n",
       "  </tbody>\n",
       "</table>\n",
       "</div>"
      ],
      "text/plain": [
       "   成品  成品次品率  成品装配成本  成品检测成本  成品拆解费用  成品市场售价  成品调换损失\n",
       "0   1    0.1       8       6      10     200      40"
      ]
     },
     "execution_count": 2,
     "metadata": {},
     "output_type": "execute_result"
    }
   ],
   "source": [
    "import pandas as pd\n",
    "import matplotlib.pyplot as plt\n",
    "import seaborn as sns\n",
    "\n",
    "dfComponent = pd.read_excel(\"C:/Users/JngyEn/Downloads/2024/B题/table2/2零件.xlsx\")\n",
    "dfHalfProduct = pd.read_excel(\"C:/Users/JngyEn/Downloads/2024/B题/table2/2半成品.xlsx\")\n",
    "dfProduct = pd.read_excel(\"C:/Users/JngyEn/Downloads/2024/B题/table2/2成品.xlsx\")\n",
    "\n",
    "dfComponent.columns = dfComponent.columns.str.replace(' ', '', regex=True)\n",
    "dfHalfProduct.columns = dfHalfProduct.columns.str.replace(' ', '', regex=True)\n",
    "dfProduct.columns = dfProduct.columns.str.replace(' ', '', regex=True)\n",
    "\n",
    "\n",
    "dfComponent.head(10)\n",
    "dfHalfProduct.head()\n",
    "dfProduct.head()"
   ]
  },
  {
   "cell_type": "markdown",
   "metadata": {},
   "source": [
    "# 变量定义"
   ]
  },
  {
   "cell_type": "code",
   "execution_count": 3,
   "metadata": {},
   "outputs": [
    {
     "name": "stdout",
     "output_type": "stream",
     "text": [
      "0.1\n"
     ]
    }
   ],
   "source": [
    "# 遍历每个零配件，半成品，成品并赋值给变量\n",
    "\n",
    "# 零配件数据\n",
    "for index, row in dfComponent.iterrows():\n",
    "    globals()[f'component_{index+1}_defect_rate'] = row['次品率']\n",
    "    globals()[f'single_component_{index+1}_purchase_price'] = row['购买单价']\n",
    "    globals()[f'single_component_{index+1}_inspection_cost'] = row['检测成本']\n",
    "\n",
    "# 半成品数据\n",
    "for index, row in dfHalfProduct.iterrows():\n",
    "    globals()[f'halfProduct_{index+1}_defect_rate'] = row['半成品次品率']\n",
    "    globals()[f'single_halfProduct_{index+1}_assembly_cost'] = row['半成品装配成本']\n",
    "    globals()[f'single_halfProduct_{index+1}_inspection_cost'] = row['半成品检测成本']\n",
    "    globals()[f'single_halfProduct_{index+1}_dismantling_cost'] = row['半成品拆解费用']\n",
    "\n",
    "# 成品数据\n",
    "for index, row in dfProduct.iterrows():\n",
    "    globals()[f'product_defect_rate'] = row['成品次品率']\n",
    "    globals()[f'single_product_assembly_cost'] = row['成品装配成本']\n",
    "    globals()[f'single_product_inspection_cost'] = row['成品检测成本']\n",
    "    globals()[f'single_product_dismantling_cost'] = row['成品拆解费用']\n",
    "    globals()[f'single_product_market_price'] = row['成品市场售价']\n",
    "    globals()[f'single_product_exchange_loss'] = row['成品调换损失']\n",
    "\n",
    "print(globals()[f'halfProduct_1_defect_rate'])\n"
   ]
  },
  {
   "cell_type": "code",
   "execution_count": 4,
   "metadata": {},
   "outputs": [],
   "source": [
    "# 零配件1是否检测\n",
    "x1 = 0  # 初始化为0，表示未检测\n",
    "\n",
    "# 零配件2是否检测\n",
    "x2 = 0  # 初始化为0，表示未检测\n",
    "\n",
    "# 零配件3是否检测\n",
    "x3 = 0  # 初始化为0，表示未检测\n",
    "\n",
    "# 零配件4是否检测\n",
    "x4 = 1  # 初始化为0，表示未检测\n",
    "\n",
    "# 零配件5是否检测\n",
    "x5 = 0  # 初始化为0，表示未检测\n",
    "\n",
    "# 零配件6是否检测\n",
    "x6 = 0  # 初始化为0，表示未检测\n",
    "\n",
    "# 零配件7是否检测\n",
    "x7 = 1  # 初始化为0，表示未检测\n",
    "\n",
    "# 零配件8是否检测\n",
    "x8 = 0  # 初始化为0，表示未检测\n",
    "\n",
    "# 半成品是否检测\n",
    "\n",
    "y1 = 1\n",
    "\n",
    "y2 = 2\n",
    "\n",
    "y3 = 0\n",
    "\n",
    "# 半成品是否拆解\n",
    "\n",
    "k1 = 0\n",
    "\n",
    "k2 = 0\n",
    "\n",
    "k3 = 0\n",
    "\n",
    "# 成品是否检测\n",
    "z1 = 0  # 初始化为0，表示未检测\n",
    "\n",
    "# 不合格成品是否拆解\n",
    "z2 = 0  # 初始化为0，表示未拆解\n"
   ]
  },
  {
   "cell_type": "markdown",
   "metadata": {},
   "source": [
    "# 公式函数"
   ]
  },
  {
   "cell_type": "markdown",
   "metadata": {},
   "source": [
    "## 各部分函数"
   ]
  },
  {
   "cell_type": "markdown",
   "metadata": {},
   "source": [
    "### 检测决策后的次品率"
   ]
  },
  {
   "cell_type": "code",
   "execution_count": 5,
   "metadata": {},
   "outputs": [],
   "source": [
    "# 半成品检测后良品率\n",
    "\n",
    "globals()[f'halpProduction_1_afterInspection_good_rate'] = (1 - globals()[f'halfProduct_1_defect_rate'] * ( 1 - globals()[f'y1']))    *    (1 - globals()[f'component_1_defect_rate'] * ( 1 - globals()[f'x1']))    *    (1 - globals()[f'component_2_defect_rate'] * ( 1 - globals()[f'x2']))   *    (1 - globals()[f'component_3_defect_rate'] * ( 1 - globals()[f'x3']))\n",
    "\n",
    "globals()[f'halpProduction_2_afterInspection_good_rate'] = (1 - globals()[f'halfProduct_2_defect_rate'] * ( 1 - globals()[f'y2']))    *    (1 - globals()[f'component_4_defect_rate'] * ( 1 - globals()[f'x4']))    *    (1 - globals()[f'component_5_defect_rate'] * ( 1 - globals()[f'x5']))   *    (1 - globals()[f'component_6_defect_rate'] * ( 1 - globals()[f'x6']))\n",
    "\n",
    "globals()[f'halpProduction_3_afterInspection_good_rate'] = (1 - globals()[f'halfProduct_2_defect_rate'] * ( 1 - globals()[f'y3']))    *    (1 - globals()[f'component_7_defect_rate'] * ( 1 - globals()[f'x7']))    *    (1 - globals()[f'component_8_defect_rate'] * ( 1 - globals()[f'x8']))   \n",
    "\n",
    "# 半成品检测后次品率\n",
    "\n",
    "halpProduct_1_afterInspection_defect_rate = 1 - globals()[f'halpProduction_1_afterInspection_good_rate']\n",
    "halpProduct_2_afterInspection_defect_rate = 1 - globals()[f'halpProduction_2_afterInspection_good_rate']\n",
    "halpProduct_3_afterInspection_defect_rate = 1 - globals()[f'halpProduction_3_afterInspection_good_rate']\n",
    "\n",
    "\n"
   ]
  },
  {
   "cell_type": "code",
   "execution_count": 6,
   "metadata": {},
   "outputs": [],
   "source": [
    "# 成品检验决策后的良品率\n",
    "product_afterInspection_good_rate = (1 - globals()[f'product_defect_rate'] * ( 1 - globals()[f'z1']))    *    (1 - globals()[f'halpProduct_1_afterInspection_defect_rate'] * ( 1 - globals()[f'y1']))    *    (1 - globals()[f'halpProduct_2_afterInspection_defect_rate'] * ( 1 - globals()[f'y2']))   *    (1 - globals()[f'halpProduct_3_afterInspection_defect_rate'] * ( 1 - globals()[f'y3']))\n",
    "\n",
    "# 成品检验决策后的次品率\n",
    "product_afterInspection_defect_rate = 1 - product_afterInspection_good_rate\n"
   ]
  },
  {
   "cell_type": "markdown",
   "metadata": {},
   "source": [
    "### 购买数量"
   ]
  },
  {
   "cell_type": "code",
   "execution_count": 7,
   "metadata": {},
   "outputs": [
    {
     "name": "stdout",
     "output_type": "stream",
     "text": [
      "10000.0 9017.132551848512 12345.679012345678\n",
      "0.1\n",
      "10000.0\n"
     ]
    }
   ],
   "source": [
    "# 生产成品数，假设\n",
    "Total_production_num = 10000\n",
    "\n",
    "# 半成品数量\n",
    "halfProduct_1_num = Total_production_num / (1- globals()[f'halpProduct_1_afterInspection_defect_rate'] * (1 - y1))\n",
    "halfProduct_2_num = Total_production_num / (1- globals()[f'halpProduct_2_afterInspection_defect_rate'] * (1 - y2))\n",
    "halfProduct_3_num = Total_production_num / (1- globals()[f'halpProduct_3_afterInspection_defect_rate'] * (1 - y3))\n",
    "print(halfProduct_1_num, halfProduct_2_num, halfProduct_3_num)\n",
    "\n",
    "# 零件购买数量\n",
    "for index in range(1, 4):\n",
    "    # 动态生成变量名并进行计算\n",
    "    globals()[f'total_component_{index}_purchase_num'] = globals()[f'halfProduct_1_num'] / (1 - globals()[f'component_{index}_defect_rate'] * (1 - globals()[f'x{index}']))\n",
    "\n",
    "# 零件数量\n",
    "for index in range(4, 7):\n",
    "    # 动态生成变量名并进行计算\n",
    "    globals()[f'total_component_{index}_purchase_num'] = globals()[f'halfProduct_2_num'] / (1 - globals()[f'component_{index}_defect_rate'] * (1 - globals()[f'x{index}']))\n",
    "    \n",
    "# 零件数量\n",
    "for index in range(7, 9):\n",
    "    # 动态生成变量名并进行计算\n",
    "    globals()[f'total_component_{index}_purchase_num'] = globals()[f'halfProduct_3_num'] / (1 - globals()[f'component_{index}_defect_rate'] * (1 - globals()[f'x{index}']))\n",
    "    \n",
    "print(globals()[f'halfProduct_2_defect_rate'])\n",
    "print(halfProduct_1_num)"
   ]
  },
  {
   "cell_type": "markdown",
   "metadata": {},
   "source": [
    "### 购买价格"
   ]
  },
  {
   "cell_type": "code",
   "execution_count": 8,
   "metadata": {},
   "outputs": [
    {
     "name": "stdout",
     "output_type": "stream",
     "text": [
      "所有的零件购买价格: 726233.9185192606\n"
     ]
    }
   ],
   "source": [
    "# 所有的零件购买价格\n",
    "total_component_cost = 0\n",
    "for index in range(1, 9):\n",
    "    globals()[f'total_component_{index}_purchase_cost'] = globals()[f'total_component_{index}_purchase_num'] * globals()[f'single_component_{index}_purchase_price']\n",
    "    total_component_cost += globals()[f'total_component_{index}_purchase_cost']\n",
    "\n",
    "print(f'所有的零件购买价格: {total_component_cost}')\n",
    "\n"
   ]
  },
  {
   "cell_type": "markdown",
   "metadata": {},
   "source": [
    "### 检测成本"
   ]
  },
  {
   "cell_type": "code",
   "execution_count": 9,
   "metadata": {},
   "outputs": [
    {
     "name": "stdout",
     "output_type": "stream",
     "text": [
      "13717.42112482853 1\n",
      "所有的零件检测成本:  23736.457293549098\n"
     ]
    }
   ],
   "source": [
    "# 所有的零件检测成本\n",
    "total_component_inspection_cost = 0\n",
    "for index in range(1, 4):\n",
    "    # 动态生成变量名并进行计算\n",
    "    globals()[f'total_component_{index}_inspection_cost'] = globals()[f'x{index}'] * globals()[f'halfProduct_1_num'] / (1 - globals()[f'component_{index}_defect_rate'] ) * globals()[f'single_component_{index}_inspection_cost']\n",
    "    total_component_inspection_cost += globals()[f'total_component_{index}_inspection_cost']\n",
    "\n",
    "\n",
    "for index in range(4, 7):\n",
    "    # 动态生成变量名并进行计算\n",
    "    globals()[f'total_component_{index}_inspection_cost'] = globals()[f'x{index}'] * globals()[f'halfProduct_2_num'] / (1 - globals()[f'component_{index}_defect_rate'] ) * globals()[f'single_component_{index}_inspection_cost']\n",
    "    total_component_inspection_cost += globals()[f'total_component_{index}_inspection_cost']\n",
    "\n",
    "for index in range(7, 9):\n",
    "    # 动态生成变量名并进行计算\n",
    "    globals()[f'total_component_{index}_inspection_cost'] = globals()[f'x{index}'] * globals()[f'halfProduct_3_num'] / (1 - globals()[f'component_{index}_defect_rate'] ) * globals()[f'single_component_{index}_inspection_cost']\n",
    "    total_component_inspection_cost += globals()[f'total_component_{index}_inspection_cost']\n",
    "\n",
    "print(globals()[f'total_component_7_inspection_cost'],globals()[f'x7'])\n",
    "print(\"所有的零件检测成本: \", total_component_inspection_cost)"
   ]
  },
  {
   "cell_type": "code",
   "execution_count": 10,
   "metadata": {},
   "outputs": [
    {
     "name": "stdout",
     "output_type": "stream",
     "text": [
      "所有半成品的检测成本:  144656.44095273723\n"
     ]
    }
   ],
   "source": [
    "total_halpProduct_inspection_cost = 0\n",
    "\n",
    "# 所有半成品的检测成本\n",
    "total_halpProduct_1_inspection_cost = y1 * Total_production_num / (1 - globals()[f'halpProduct_1_afterInspection_defect_rate'] ) * globals()[f'single_halfProduct_1_inspection_cost']\n",
    "total_halpProduct_2_inspection_cost = y2 * Total_production_num / (1 - globals()[f'halpProduct_2_afterInspection_defect_rate'] ) * globals()[f'single_halfProduct_2_inspection_cost']\n",
    "total_halpProduct_3_inspection_cost = y3 * Total_production_num / (1 - globals()[f'halpProduct_3_afterInspection_defect_rate'] ) * globals()[f'single_halfProduct_3_inspection_cost']\n",
    "\n",
    "total_halpProduct_inspection_cost = total_halpProduct_1_inspection_cost + total_halpProduct_2_inspection_cost + total_halpProduct_3_inspection_cost\n",
    "\n",
    "print(\"所有半成品的检测成本: \",total_halpProduct_inspection_cost)\n"
   ]
  },
  {
   "cell_type": "code",
   "execution_count": 11,
   "metadata": {},
   "outputs": [],
   "source": [
    "# 成品的检测成本\n",
    "total_product_inspection_cost = z1 * Total_production_num * globals()[f'single_product_inspection_cost']\n"
   ]
  },
  {
   "cell_type": "markdown",
   "metadata": {},
   "source": [
    "### 装配成本"
   ]
  },
  {
   "cell_type": "code",
   "execution_count": 12,
   "metadata": {},
   "outputs": [
    {
     "name": "stdout",
     "output_type": "stream",
     "text": [
      "半成品的装配成本: 240000.0\n"
     ]
    }
   ],
   "source": [
    "total_halpProduct_assembly_cost = 0\n",
    "# 半成品的装配成本\n",
    "for index in range(1, 4):\n",
    "    # 动态生成变量名并进行计算\n",
    "    globals()[f'total_halfProduct_{index}_assembly_cost'] = globals()[f'halfProduct_1_num'] * globals()[f'single_halfProduct_{index}_assembly_cost']\n",
    "    total_halpProduct_assembly_cost += globals()[f'total_halfProduct_{index}_assembly_cost']\n",
    "    \n",
    "print(f'半成品的装配成本: {total_halpProduct_assembly_cost}')\n",
    "\n"
   ]
  },
  {
   "cell_type": "code",
   "execution_count": 13,
   "metadata": {},
   "outputs": [],
   "source": [
    "# 成品的装配成本\n",
    "\n",
    "total_product_assembly_cost = Total_production_num * globals()[f'single_product_assembly_cost']\n"
   ]
  },
  {
   "cell_type": "markdown",
   "metadata": {},
   "source": [
    "### 拆解成本"
   ]
  },
  {
   "cell_type": "code",
   "execution_count": 14,
   "metadata": {},
   "outputs": [
    {
     "name": "stdout",
     "output_type": "stream",
     "text": [
      "0.0\n"
     ]
    }
   ],
   "source": [
    "# 成品的拆解个数,同时也是调换个数\n",
    "total_product_dismantling_num = z2 * Total_production_num * product_afterInspection_defect_rate\n",
    "# 成品的拆解成本 \n",
    "total_product_dismantling_cost =(total_product_dismantling_num  * \n",
    "                                (globals()[f'single_product_dismantling_cost'] + globals()[f'single_product_inspection_cost'] +\n",
    "                                (1-k1)*(1 - y1)* globals()[f'halpProduct_1_afterInspection_defect_rate'] + (1-k2)*(1 - y2)* globals()[f'halpProduct_2_afterInspection_defect_rate'] +  (1-k3)*(1 - y3)* globals()[f'halpProduct_3_afterInspection_defect_rate']\n",
    "                                ))       \n",
    "print(total_product_dismantling_cost)                                            "
   ]
  },
  {
   "cell_type": "code",
   "execution_count": 15,
   "metadata": {},
   "outputs": [
    {
     "name": "stdout",
     "output_type": "stream",
     "text": [
      "半成品的拆解成本: -0.0\n"
     ]
    }
   ],
   "source": [
    "# 半成品的拆解成本\n",
    "total_halfProduct_dismantling_cost = 0\n",
    "globals()[f'total_halfProduct_1_dismantling_cost'] =( k1 * total_product_dismantling_num * (globals()[f'single_halfProduct_1_dismantling_cost'] - \n",
    "                                                                                            (globals()[f'single_component_1_purchase_price'] + globals()[f'single_component_2_purchase_price'] + globals()[f'single_component_3_purchase_price']) +\n",
    "                                                                                                ((1-x1)*globals()[f'single_component_1_inspection_cost']+(1-x2)*globals()[f'single_component_2_inspection_cost'])+(1-x3)*globals()[f'single_component_3_inspection_cost']\n",
    "                                                                                                ))\n",
    "\n",
    "globals()[f'total_halfProduct_2_dismantling_cost'] =( k2 * total_product_dismantling_num * (globals()[f'single_halfProduct_2_dismantling_cost'] - \n",
    "                                                                                            (globals()[f'single_component_6_purchase_price'] + globals()[f'single_component_4_purchase_price'] + globals()[f'single_component_5_purchase_price']) +\n",
    "                                                                                                ((1-x6)*globals()[f'single_component_6_inspection_cost']+(1-x4)*globals()[f'single_component_4_inspection_cost'])+(1-x5)*globals()[f'single_component_5_inspection_cost']\n",
    "                                                                                                ))\n",
    "\n",
    "globals()[f'total_halfProduct_3_dismantling_cost'] =( k3 * total_product_dismantling_num * (globals()[f'single_halfProduct_3_dismantling_cost'] - \n",
    "                                                                                            (globals()[f'single_component_7_purchase_price'] + globals()[f'single_component_8_purchase_price'])  +\n",
    "                                                                                                ((1-x7)*globals()[f'single_component_7_inspection_cost']+(1-x8)*globals()[f'single_component_8_inspection_cost'])\n",
    "                                                                                                ))\n",
    "# 求总拆解成本\n",
    "total_halfProduct_dismantling_cost = (globals()[f'total_halfProduct_1_dismantling_cost'] +\n",
    "                                      globals()[f'total_halfProduct_2_dismantling_cost'] +\n",
    "                                      globals()[f'total_halfProduct_3_dismantling_cost'])\n",
    "print(f'半成品的拆解成本: {total_halfProduct_dismantling_cost}')"
   ]
  },
  {
   "cell_type": "markdown",
   "metadata": {},
   "source": [
    "### 调换损失"
   ]
  },
  {
   "cell_type": "code",
   "execution_count": 16,
   "metadata": {},
   "outputs": [],
   "source": [
    "# 成品的调换损失\n",
    "\n",
    "total_product_exchange_loss = total_product_dismantling_num * globals()[f'single_product_exchange_loss']"
   ]
  },
  {
   "cell_type": "markdown",
   "metadata": {},
   "source": []
  },
  {
   "cell_type": "markdown",
   "metadata": {},
   "source": [
    "## 总成本"
   ]
  },
  {
   "cell_type": "code",
   "execution_count": 17,
   "metadata": {},
   "outputs": [
    {
     "name": "stdout",
     "output_type": "stream",
     "text": [
      "1214626.8167655468\n"
     ]
    }
   ],
   "source": [
    "Total_cost = (total_component_cost +\n",
    "                (total_component_inspection_cost + total_halpProduct_inspection_cost + total_product_inspection_cost) +\n",
    "                (total_halpProduct_assembly_cost + total_product_assembly_cost)+\n",
    "                (total_halfProduct_dismantling_cost + total_product_dismantling_cost)+\n",
    "                total_product_exchange_loss)\n",
    "print(Total_cost)"
   ]
  },
  {
   "cell_type": "markdown",
   "metadata": {},
   "source": [
    "## 总利润"
   ]
  },
  {
   "cell_type": "code",
   "execution_count": 18,
   "metadata": {},
   "outputs": [
    {
     "name": "stdout",
     "output_type": "stream",
     "text": [
      "Total_income: 1616922.0\n",
      "Total_profit: 402295.1832344532\n"
     ]
    }
   ],
   "source": [
    "# 总收入\n",
    "c_defective_num = Total_production_num * product_afterInspection_defect_rate\n",
    "c_sell_num = Total_production_num - c_defective_num\n",
    "Total_income = c_sell_num * globals()[f'single_product_market_price']\n",
    "\n",
    "print(f'Total_income: {Total_income}')\n",
    "\n",
    "# 总利润\n",
    "Total_profit = Total_income - Total_cost\n",
    "\n",
    "print(f'Total_profit: {Total_profit}')"
   ]
  }
 ],
 "metadata": {
  "kernelspec": {
   "display_name": "Python 3",
   "language": "python",
   "name": "python3"
  },
  "language_info": {
   "codemirror_mode": {
    "name": "ipython",
    "version": 3
   },
   "file_extension": ".py",
   "mimetype": "text/x-python",
   "name": "python",
   "nbconvert_exporter": "python",
   "pygments_lexer": "ipython3",
   "version": "3.11.6"
  }
 },
 "nbformat": 4,
 "nbformat_minor": 2
}
