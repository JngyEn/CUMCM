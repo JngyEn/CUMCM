{
 "cells": [
  {
   "cell_type": "code",
   "execution_count": 6,
   "metadata": {},
   "outputs": [],
   "source": [
    "import pandas as pd\n",
    "\n",
    "# Load the data from all three files\n",
    "df_area = pd.read_excel(\"C:/Users/JngyEn/Downloads/2024/C题/种植面积.xlsx\")\n",
    "df_yield = pd.read_excel('C:/Users/JngyEn/Downloads/2024/C题/亩产量，成本和价格.xlsx')\n",
    "df_land = pd.read_excel('C:/Users/JngyEn/Downloads/2024/C题/耕地类型.xlsx')\n",
    "\n",
    "# Merge the data based on the common field \"地块名称\" (地块)\n",
    "merged_df = pd.merge(df_area, df_land, left_on='种植地块', right_on='地块名称')\n",
    "\n",
    "# Now merge with yield data based on crop name and plot type (作物名称, 地块类型)\n",
    "final_df = pd.merge(merged_df, df_yield, on=['作物名称', '地块类型'])\n",
    "\n",
    "# Calculate the total yield for each crop on each plot\n",
    "final_df['总产量/斤'] = final_df['种植面积/亩'] * final_df['亩产量/斤']\n",
    "\n",
    "# Select relevant columns to display\n",
    "result_df = final_df[['种植地块', '作物名称', '地块类型', '种植面积/亩', '亩产量/斤', '总产量/斤']]\n",
    "\n",
    "# Display the result\n",
    "import ace_tools as tools;\n",
    "tools.display_dataframe_to_user(name=\"作物总产量表\", dataframe=result_df)\n"
   ]
  }
 ],
 "metadata": {
  "kernelspec": {
   "display_name": "Python 3",
   "language": "python",
   "name": "python3"
  },
  "language_info": {
   "codemirror_mode": {
    "name": "ipython",
    "version": 3
   },
   "file_extension": ".py",
   "mimetype": "text/x-python",
   "name": "python",
   "nbconvert_exporter": "python",
   "pygments_lexer": "ipython3",
   "version": "3.11.6"
  }
 },
 "nbformat": 4,
 "nbformat_minor": 2
}
